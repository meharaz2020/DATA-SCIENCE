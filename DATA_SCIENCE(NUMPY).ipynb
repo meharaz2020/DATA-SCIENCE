{
  "nbformat": 4,
  "nbformat_minor": 0,
  "metadata": {
    "colab": {
      "name": "DATA SCIENCE(NUMPY).ipynb",
      "provenance": [],
      "collapsed_sections": []
    },
    "kernelspec": {
      "name": "python3",
      "display_name": "Python 3"
    },
    "language_info": {
      "name": "python"
    }
  },
  "cells": [
    {
      "cell_type": "markdown",
      "source": [
        "basic to advance\n"
      ],
      "metadata": {
        "id": "oY8kWTJa8CzE"
      }
    },
    {
      "cell_type": "markdown",
      "source": [
        ""
      ],
      "metadata": {
        "id": "uq9r3DLGB-KQ"
      }
    },
    {
      "cell_type": "code",
      "source": [
        "import numpy\n",
        "numpy.__version__"
      ],
      "metadata": {
        "colab": {
          "base_uri": "https://localhost:8080/",
          "height": 35
        },
        "id": "mbTa_qfQB38R",
        "outputId": "a4efbaef-2f45-41d3-bf19-0d5adbcf90c1"
      },
      "execution_count": 1,
      "outputs": [
        {
          "output_type": "execute_result",
          "data": {
            "text/plain": [
              "'1.21.6'"
            ],
            "application/vnd.google.colaboratory.intrinsic+json": {
              "type": "string"
            }
          },
          "metadata": {},
          "execution_count": 1
        }
      ]
    },
    {
      "cell_type": "code",
      "source": [
        "import numpy as np"
      ],
      "metadata": {
        "id": "_MyvqLsYCDcP"
      },
      "execution_count": 2,
      "outputs": []
    },
    {
      "cell_type": "code",
      "source": [
        "# Python code\n",
        "result = 0\n",
        "for i in range(100):\n",
        "    result += i\n",
        "result"
      ],
      "metadata": {
        "colab": {
          "base_uri": "https://localhost:8080/"
        },
        "id": "1ho9AmisCY0i",
        "outputId": "b8fbb84d-9a2f-4dc3-e70c-c323c63253c2"
      },
      "execution_count": 4,
      "outputs": [
        {
          "output_type": "execute_result",
          "data": {
            "text/plain": [
              "4950"
            ]
          },
          "metadata": {},
          "execution_count": 4
        }
      ]
    },
    {
      "cell_type": "code",
      "source": [
        "# Python code\n",
        "x = 4\n",
        "x = \"four\""
      ],
      "metadata": {
        "id": "9CWfwtPiDA9a"
      },
      "execution_count": 5,
      "outputs": []
    },
    {
      "cell_type": "code",
      "source": [
        "L = list(range(10))\n",
        "L"
      ],
      "metadata": {
        "colab": {
          "base_uri": "https://localhost:8080/"
        },
        "id": "3sfjfqVSDKJW",
        "outputId": "57b664bc-c201-4712-ec2e-b9a63c49d562"
      },
      "execution_count": 6,
      "outputs": [
        {
          "output_type": "execute_result",
          "data": {
            "text/plain": [
              "[0, 1, 2, 3, 4, 5, 6, 7, 8, 9]"
            ]
          },
          "metadata": {},
          "execution_count": 6
        }
      ]
    },
    {
      "cell_type": "code",
      "source": [
        "type(L[0])"
      ],
      "metadata": {
        "colab": {
          "base_uri": "https://localhost:8080/"
        },
        "id": "1p33SXM1DMgQ",
        "outputId": "fd06fb91-1fdf-4e1f-c893-fb7c9e77a672"
      },
      "execution_count": 7,
      "outputs": [
        {
          "output_type": "execute_result",
          "data": {
            "text/plain": [
              "int"
            ]
          },
          "metadata": {},
          "execution_count": 7
        }
      ]
    },
    {
      "cell_type": "code",
      "source": [
        "L3 = [True, \"2\", 3.0, 4]\n",
        "[type(item) for item in L3]"
      ],
      "metadata": {
        "colab": {
          "base_uri": "https://localhost:8080/"
        },
        "id": "XVvzBfz4DZdk",
        "outputId": "0467973d-50ad-4a97-a266-bf0c04187f43"
      },
      "execution_count": 8,
      "outputs": [
        {
          "output_type": "execute_result",
          "data": {
            "text/plain": [
              "[bool, str, float, int]"
            ]
          },
          "metadata": {},
          "execution_count": 8
        }
      ]
    },
    {
      "cell_type": "code",
      "source": [
        "import array\n",
        "L = list(range(10))\n",
        "A = array.array('i', L)\n",
        "A"
      ],
      "metadata": {
        "colab": {
          "base_uri": "https://localhost:8080/"
        },
        "id": "r4WAbTcjDkSg",
        "outputId": "5af48317-eff6-456e-ad63-e2a5efa89bdd"
      },
      "execution_count": 10,
      "outputs": [
        {
          "output_type": "execute_result",
          "data": {
            "text/plain": [
              "array('i', [0, 1, 2, 3, 4, 5, 6, 7, 8, 9])"
            ]
          },
          "metadata": {},
          "execution_count": 10
        }
      ]
    },
    {
      "cell_type": "code",
      "source": [
        "# integer array:\n",
        "np.array([1, 4, 2, 5, 3])"
      ],
      "metadata": {
        "colab": {
          "base_uri": "https://localhost:8080/"
        },
        "id": "Rk02tlaGDzep",
        "outputId": "7588ee11-88b1-4675-ad55-c775a1438ea7"
      },
      "execution_count": 11,
      "outputs": [
        {
          "output_type": "execute_result",
          "data": {
            "text/plain": [
              "array([1, 4, 2, 5, 3])"
            ]
          },
          "metadata": {},
          "execution_count": 11
        }
      ]
    },
    {
      "cell_type": "code",
      "source": [
        "# nested lists result in multi-dimensional arrays\n",
        "np.array([range(i, i + 3) for i in [2, 4, 6]])"
      ],
      "metadata": {
        "colab": {
          "base_uri": "https://localhost:8080/"
        },
        "id": "9wEKGEukD37w",
        "outputId": "40f92f82-5f98-4a86-90b5-d003f47d686e"
      },
      "execution_count": 12,
      "outputs": [
        {
          "output_type": "execute_result",
          "data": {
            "text/plain": [
              "array([[2, 3, 4],\n",
              "       [4, 5, 6],\n",
              "       [6, 7, 8]])"
            ]
          },
          "metadata": {},
          "execution_count": 12
        }
      ]
    },
    {
      "cell_type": "code",
      "source": [
        "# Create a length-10 integer array filled with zeros\n",
        "np.zeros(10, dtype=int)"
      ],
      "metadata": {
        "colab": {
          "base_uri": "https://localhost:8080/"
        },
        "id": "Cz6MChtND7hR",
        "outputId": "9d777831-b73c-45fc-d3f9-6bc37a473f52"
      },
      "execution_count": 13,
      "outputs": [
        {
          "output_type": "execute_result",
          "data": {
            "text/plain": [
              "array([0, 0, 0, 0, 0, 0, 0, 0, 0, 0])"
            ]
          },
          "metadata": {},
          "execution_count": 13
        }
      ]
    },
    {
      "cell_type": "code",
      "source": [
        "# Create a 3x5 floating-point array filled with ones\n",
        "np.ones((3, 5), dtype=float)"
      ],
      "metadata": {
        "colab": {
          "base_uri": "https://localhost:8080/"
        },
        "id": "MnE8tpGOEAnB",
        "outputId": "ad14b26b-e890-4f72-feff-1eaec4ed6022"
      },
      "execution_count": 14,
      "outputs": [
        {
          "output_type": "execute_result",
          "data": {
            "text/plain": [
              "array([[1., 1., 1., 1., 1.],\n",
              "       [1., 1., 1., 1., 1.],\n",
              "       [1., 1., 1., 1., 1.]])"
            ]
          },
          "metadata": {},
          "execution_count": 14
        }
      ]
    },
    {
      "cell_type": "code",
      "source": [
        "# Create a 3x5 array filled with 3.14\n",
        "np.full((3, 5), 3.14)"
      ],
      "metadata": {
        "colab": {
          "base_uri": "https://localhost:8080/"
        },
        "id": "Cr9MPoKXEZzV",
        "outputId": "d10223a9-8ee2-4912-843e-c1a97cde31e1"
      },
      "execution_count": 15,
      "outputs": [
        {
          "output_type": "execute_result",
          "data": {
            "text/plain": [
              "array([[3.14, 3.14, 3.14, 3.14, 3.14],\n",
              "       [3.14, 3.14, 3.14, 3.14, 3.14],\n",
              "       [3.14, 3.14, 3.14, 3.14, 3.14]])"
            ]
          },
          "metadata": {},
          "execution_count": 15
        }
      ]
    },
    {
      "cell_type": "code",
      "source": [
        "# Create an array filled with a linear sequence\n",
        "# Starting at 0, ending at 20, stepping by 2\n",
        "# (this is similar to the built-in range() function)\n",
        "np.arange(0, 20, 2)"
      ],
      "metadata": {
        "colab": {
          "base_uri": "https://localhost:8080/"
        },
        "id": "k8qp6CpWEayL",
        "outputId": "510ea947-cd90-4786-c30a-b2f498fb7238"
      },
      "execution_count": 16,
      "outputs": [
        {
          "output_type": "execute_result",
          "data": {
            "text/plain": [
              "array([ 0,  2,  4,  6,  8, 10, 12, 14, 16, 18])"
            ]
          },
          "metadata": {},
          "execution_count": 16
        }
      ]
    },
    {
      "cell_type": "code",
      "source": [
        "# Create an array of five values evenly spaced between 0 and 1\n",
        "np.linspace(0, 1, 5)"
      ],
      "metadata": {
        "colab": {
          "base_uri": "https://localhost:8080/"
        },
        "id": "8DmS7JEBEfLV",
        "outputId": "22416e98-4817-4094-d3e7-3a535a330439"
      },
      "execution_count": 17,
      "outputs": [
        {
          "output_type": "execute_result",
          "data": {
            "text/plain": [
              "array([0.  , 0.25, 0.5 , 0.75, 1.  ])"
            ]
          },
          "metadata": {},
          "execution_count": 17
        }
      ]
    },
    {
      "cell_type": "code",
      "source": [
        "# Create a 3x3 array of uniformly distributed\n",
        "# random values between 0 and 1\n",
        "np.random.random((3, 3))"
      ],
      "metadata": {
        "colab": {
          "base_uri": "https://localhost:8080/"
        },
        "id": "pAGIECOvEg6C",
        "outputId": "a5b1fdea-321f-4b4a-87f4-8da050d57724"
      },
      "execution_count": 18,
      "outputs": [
        {
          "output_type": "execute_result",
          "data": {
            "text/plain": [
              "array([[0.22249318, 0.86810184, 0.73291194],\n",
              "       [0.80501575, 0.81606932, 0.46579539],\n",
              "       [0.18435055, 0.46502447, 0.12516695]])"
            ]
          },
          "metadata": {},
          "execution_count": 18
        }
      ]
    },
    {
      "cell_type": "code",
      "source": [
        "# Create a 3x3 identity matrix\n",
        "np.eye(3)"
      ],
      "metadata": {
        "colab": {
          "base_uri": "https://localhost:8080/"
        },
        "id": "M6TrIQU5EoZE",
        "outputId": "d449641c-1fd8-48a5-c608-3c9b2de90b12"
      },
      "execution_count": 19,
      "outputs": [
        {
          "output_type": "execute_result",
          "data": {
            "text/plain": [
              "array([[1., 0., 0.],\n",
              "       [0., 1., 0.],\n",
              "       [0., 0., 1.]])"
            ]
          },
          "metadata": {},
          "execution_count": 19
        }
      ]
    },
    {
      "cell_type": "code",
      "source": [
        "# Create a 3x3 array of random integers in the interval [0, 10)\n",
        "np.random.randint(0, 10, (3, 3))"
      ],
      "metadata": {
        "colab": {
          "base_uri": "https://localhost:8080/"
        },
        "id": "KbWVt2noEqK4",
        "outputId": "020a47b7-0992-4f30-e12c-d683e7813c06"
      },
      "execution_count": 20,
      "outputs": [
        {
          "output_type": "execute_result",
          "data": {
            "text/plain": [
              "array([[0, 2, 2],\n",
              "       [5, 4, 8],\n",
              "       [3, 5, 3]])"
            ]
          },
          "metadata": {},
          "execution_count": 20
        }
      ]
    },
    {
      "cell_type": "code",
      "source": [
        "import numpy as np\n",
        "np.random.seed(0)  # seed for reproducibility\n",
        "\n",
        "x1 = np.random.randint(10, size=6)  # One-dimensional array\n",
        "x2 = np.random.randint(10, size=(3, 4))  # Two-dimensional array\n",
        "x3 = np.random.randint(10, size=(3, 4, 5))  # Three-dimensional array\n",
        "x1\n",
        " "
      ],
      "metadata": {
        "colab": {
          "base_uri": "https://localhost:8080/"
        },
        "id": "4vDSyGUKEq9p",
        "outputId": "82cb9953-3807-4049-f762-35909715d6d1"
      },
      "execution_count": 22,
      "outputs": [
        {
          "output_type": "execute_result",
          "data": {
            "text/plain": [
              "array([5, 0, 3, 3, 7, 9])"
            ]
          },
          "metadata": {},
          "execution_count": 22
        }
      ]
    },
    {
      "cell_type": "code",
      "source": [
        "x2\n",
        " "
      ],
      "metadata": {
        "colab": {
          "base_uri": "https://localhost:8080/"
        },
        "id": "xB6jQpVEFEMV",
        "outputId": "4f567524-4fcf-4f5f-ca62-d65e4075623f"
      },
      "execution_count": 23,
      "outputs": [
        {
          "output_type": "execute_result",
          "data": {
            "text/plain": [
              "array([[3, 5, 2, 4],\n",
              "       [7, 6, 8, 8],\n",
              "       [1, 6, 7, 7]])"
            ]
          },
          "metadata": {},
          "execution_count": 23
        }
      ]
    },
    {
      "cell_type": "code",
      "source": [
        "x3"
      ],
      "metadata": {
        "colab": {
          "base_uri": "https://localhost:8080/"
        },
        "id": "2SmzzoinFNKK",
        "outputId": "8bf603cc-c396-4768-bfd9-f6711e013b4b"
      },
      "execution_count": 25,
      "outputs": [
        {
          "output_type": "execute_result",
          "data": {
            "text/plain": [
              "array([[[8, 1, 5, 9, 8],\n",
              "        [9, 4, 3, 0, 3],\n",
              "        [5, 0, 2, 3, 8],\n",
              "        [1, 3, 3, 3, 7]],\n",
              "\n",
              "       [[0, 1, 9, 9, 0],\n",
              "        [4, 7, 3, 2, 7],\n",
              "        [2, 0, 0, 4, 5],\n",
              "        [5, 6, 8, 4, 1]],\n",
              "\n",
              "       [[4, 9, 8, 1, 1],\n",
              "        [7, 9, 9, 3, 6],\n",
              "        [7, 2, 0, 3, 5],\n",
              "        [9, 4, 4, 6, 4]]])"
            ]
          },
          "metadata": {},
          "execution_count": 25
        }
      ]
    },
    {
      "cell_type": "code",
      "source": [
        "x1[4]"
      ],
      "metadata": {
        "colab": {
          "base_uri": "https://localhost:8080/"
        },
        "id": "NACTCt4TFQoQ",
        "outputId": "16ec4e39-7c24-419d-c309-975f19d60a52"
      },
      "execution_count": 26,
      "outputs": [
        {
          "output_type": "execute_result",
          "data": {
            "text/plain": [
              "7"
            ]
          },
          "metadata": {},
          "execution_count": 26
        }
      ]
    },
    {
      "cell_type": "code",
      "source": [
        "x1[-1]"
      ],
      "metadata": {
        "colab": {
          "base_uri": "https://localhost:8080/"
        },
        "id": "HWKLQ0GIFWnn",
        "outputId": "725f2680-ab1e-4dc7-d1ba-170b76db809c"
      },
      "execution_count": 27,
      "outputs": [
        {
          "output_type": "execute_result",
          "data": {
            "text/plain": [
              "9"
            ]
          },
          "metadata": {},
          "execution_count": 27
        }
      ]
    },
    {
      "cell_type": "code",
      "source": [
        "\n",
        "x2[2, 0]"
      ],
      "metadata": {
        "colab": {
          "base_uri": "https://localhost:8080/"
        },
        "id": "ofryrOOfFZn0",
        "outputId": "a9c365c4-d142-45f8-f3c0-d9bf64d42043"
      },
      "execution_count": 28,
      "outputs": [
        {
          "output_type": "execute_result",
          "data": {
            "text/plain": [
              "1"
            ]
          },
          "metadata": {},
          "execution_count": 28
        }
      ]
    },
    {
      "cell_type": "code",
      "source": [
        "x2[2, -1]"
      ],
      "metadata": {
        "colab": {
          "base_uri": "https://localhost:8080/"
        },
        "id": "sHHsc5OPFc7k",
        "outputId": "15edf1ca-b192-49d2-ce64-1a708f17e79c"
      },
      "execution_count": 29,
      "outputs": [
        {
          "output_type": "execute_result",
          "data": {
            "text/plain": [
              "7"
            ]
          },
          "metadata": {},
          "execution_count": 29
        }
      ]
    },
    {
      "cell_type": "code",
      "source": [
        "x = np.arange(10)\n",
        "x"
      ],
      "metadata": {
        "colab": {
          "base_uri": "https://localhost:8080/"
        },
        "id": "4T6KoGH3Fgu9",
        "outputId": "66ee03df-f171-47f6-eddd-ca82e0d47fb7"
      },
      "execution_count": 31,
      "outputs": [
        {
          "output_type": "execute_result",
          "data": {
            "text/plain": [
              "array([0, 1, 2, 3, 4, 5, 6, 7, 8, 9])"
            ]
          },
          "metadata": {},
          "execution_count": 31
        }
      ]
    },
    {
      "cell_type": "code",
      "source": [
        "x[:5]  # first five elements"
      ],
      "metadata": {
        "colab": {
          "base_uri": "https://localhost:8080/"
        },
        "id": "lP18Oa5oFtbu",
        "outputId": "1fade6b5-ed3c-45b0-81de-2ad748e77424"
      },
      "execution_count": 32,
      "outputs": [
        {
          "output_type": "execute_result",
          "data": {
            "text/plain": [
              "array([0, 1, 2, 3, 4])"
            ]
          },
          "metadata": {},
          "execution_count": 32
        }
      ]
    },
    {
      "cell_type": "code",
      "source": [
        "x[5:]  # elements after index 5"
      ],
      "metadata": {
        "colab": {
          "base_uri": "https://localhost:8080/"
        },
        "id": "kLQU8E1rFvod",
        "outputId": "2c4527c3-19e2-45ac-c1bb-95149a306eb7"
      },
      "execution_count": 33,
      "outputs": [
        {
          "output_type": "execute_result",
          "data": {
            "text/plain": [
              "array([5, 6, 7, 8, 9])"
            ]
          },
          "metadata": {},
          "execution_count": 33
        }
      ]
    },
    {
      "cell_type": "code",
      "source": [
        "x[4:7]  # middle sub-array"
      ],
      "metadata": {
        "colab": {
          "base_uri": "https://localhost:8080/"
        },
        "id": "-Fxb9l52FxgD",
        "outputId": "44b27590-1209-47c2-a9e0-a4aa59090860"
      },
      "execution_count": 34,
      "outputs": [
        {
          "output_type": "execute_result",
          "data": {
            "text/plain": [
              "array([4, 5, 6])"
            ]
          },
          "metadata": {},
          "execution_count": 34
        }
      ]
    },
    {
      "cell_type": "code",
      "source": [
        "x[::2]  # every other element"
      ],
      "metadata": {
        "colab": {
          "base_uri": "https://localhost:8080/"
        },
        "id": "AB1ZDFGzFyVR",
        "outputId": "1cb225fa-cef2-475e-83b3-f49dd5333950"
      },
      "execution_count": 35,
      "outputs": [
        {
          "output_type": "execute_result",
          "data": {
            "text/plain": [
              "array([0, 2, 4, 6, 8])"
            ]
          },
          "metadata": {},
          "execution_count": 35
        }
      ]
    },
    {
      "cell_type": "code",
      "source": [
        "x[1::2]  # every other element, starting at index 1"
      ],
      "metadata": {
        "colab": {
          "base_uri": "https://localhost:8080/"
        },
        "id": "kl0JASjcF0NP",
        "outputId": "4789233c-0214-4eab-8954-c9e30ad46e4b"
      },
      "execution_count": 36,
      "outputs": [
        {
          "output_type": "execute_result",
          "data": {
            "text/plain": [
              "array([1, 3, 5, 7, 9])"
            ]
          },
          "metadata": {},
          "execution_count": 36
        }
      ]
    },
    {
      "cell_type": "code",
      "source": [
        "x[::-1]  # all elements, reversed"
      ],
      "metadata": {
        "colab": {
          "base_uri": "https://localhost:8080/"
        },
        "id": "vsF3Z5lJF2Sy",
        "outputId": "77b1a392-ffb5-4ee0-e054-792639c24078"
      },
      "execution_count": 38,
      "outputs": [
        {
          "output_type": "execute_result",
          "data": {
            "text/plain": [
              "array([9, 8, 7, 6, 5, 4, 3, 2, 1, 0])"
            ]
          },
          "metadata": {},
          "execution_count": 38
        }
      ]
    },
    {
      "cell_type": "code",
      "source": [
        "x[5::-2]  # reversed every other from index 5"
      ],
      "metadata": {
        "colab": {
          "base_uri": "https://localhost:8080/"
        },
        "id": "ehU8AArAF6tX",
        "outputId": "53d46742-deba-431c-c6dc-f0853f65799f"
      },
      "execution_count": 39,
      "outputs": [
        {
          "output_type": "execute_result",
          "data": {
            "text/plain": [
              "array([5, 3, 1])"
            ]
          },
          "metadata": {},
          "execution_count": 39
        }
      ]
    },
    {
      "cell_type": "code",
      "source": [
        "x2"
      ],
      "metadata": {
        "colab": {
          "base_uri": "https://localhost:8080/"
        },
        "id": "SKvGQvZgF7lr",
        "outputId": "a967e6ed-3b0d-461b-c211-3b68788315fb"
      },
      "execution_count": 40,
      "outputs": [
        {
          "output_type": "execute_result",
          "data": {
            "text/plain": [
              "array([[3, 5, 2, 4],\n",
              "       [7, 6, 8, 8],\n",
              "       [1, 6, 7, 7]])"
            ]
          },
          "metadata": {},
          "execution_count": 40
        }
      ]
    },
    {
      "cell_type": "code",
      "source": [
        "x2[:2, :3]  # two rows, three columns"
      ],
      "metadata": {
        "colab": {
          "base_uri": "https://localhost:8080/"
        },
        "id": "Bk65U5p7GD50",
        "outputId": "16db8ca2-82d7-48c2-cd95-b3ba8ae50835"
      },
      "execution_count": 41,
      "outputs": [
        {
          "output_type": "execute_result",
          "data": {
            "text/plain": [
              "array([[3, 5, 2],\n",
              "       [7, 6, 8]])"
            ]
          },
          "metadata": {},
          "execution_count": 41
        }
      ]
    },
    {
      "cell_type": "code",
      "source": [
        "x2[:3, ::2]  # all rows, every other column"
      ],
      "metadata": {
        "colab": {
          "base_uri": "https://localhost:8080/"
        },
        "id": "kUYakUMyGFrM",
        "outputId": "e20b4278-a7d2-44df-8883-fee802a68f19"
      },
      "execution_count": 42,
      "outputs": [
        {
          "output_type": "execute_result",
          "data": {
            "text/plain": [
              "array([[3, 2],\n",
              "       [7, 8],\n",
              "       [1, 7]])"
            ]
          },
          "metadata": {},
          "execution_count": 42
        }
      ]
    },
    {
      "cell_type": "code",
      "source": [
        "grid = np.arange(1, 10).reshape((3, 3))\n",
        "print(grid)"
      ],
      "metadata": {
        "colab": {
          "base_uri": "https://localhost:8080/"
        },
        "id": "3YGWEZKrGGYX",
        "outputId": "d15ad55f-5b26-46b5-d0e4-cc69407de9b6"
      },
      "execution_count": 43,
      "outputs": [
        {
          "output_type": "stream",
          "name": "stdout",
          "text": [
            "[[1 2 3]\n",
            " [4 5 6]\n",
            " [7 8 9]]\n"
          ]
        }
      ]
    },
    {
      "cell_type": "code",
      "source": [
        "x = np.array([1, 2, 3])\n",
        "\n",
        "# row vector via reshape\n",
        "x.reshape((1, 3))"
      ],
      "metadata": {
        "colab": {
          "base_uri": "https://localhost:8080/"
        },
        "id": "awaGwfcUGNBA",
        "outputId": "6e7577de-6ed2-40a8-e06a-f020de40151d"
      },
      "execution_count": 45,
      "outputs": [
        {
          "output_type": "execute_result",
          "data": {
            "text/plain": [
              "array([[1, 2, 3]])"
            ]
          },
          "metadata": {},
          "execution_count": 45
        }
      ]
    },
    {
      "cell_type": "code",
      "source": [
        "x.reshape((3, 1))"
      ],
      "metadata": {
        "colab": {
          "base_uri": "https://localhost:8080/"
        },
        "id": "cfH410LUGUrn",
        "outputId": "9bda39e1-98c4-4730-b7c7-f36099a52254"
      },
      "execution_count": 46,
      "outputs": [
        {
          "output_type": "execute_result",
          "data": {
            "text/plain": [
              "array([[1],\n",
              "       [2],\n",
              "       [3]])"
            ]
          },
          "metadata": {},
          "execution_count": 46
        }
      ]
    },
    {
      "cell_type": "code",
      "source": [
        "x = np.array([1, 2, 3])\n",
        "y = np.array([3, 2, 1])\n",
        "np.concatenate([x, y])"
      ],
      "metadata": {
        "colab": {
          "base_uri": "https://localhost:8080/"
        },
        "id": "S9V3eVQ2GXXQ",
        "outputId": "4c2c4417-78f5-40f9-d9b1-d62bd9eff73f"
      },
      "execution_count": 47,
      "outputs": [
        {
          "output_type": "execute_result",
          "data": {
            "text/plain": [
              "array([1, 2, 3, 3, 2, 1])"
            ]
          },
          "metadata": {},
          "execution_count": 47
        }
      ]
    },
    {
      "cell_type": "code",
      "source": [
        "z = [99, 99, 99]\n",
        "print(np.concatenate([x, y, z]))"
      ],
      "metadata": {
        "colab": {
          "base_uri": "https://localhost:8080/"
        },
        "id": "3hJ0yzhYGde_",
        "outputId": "cbd04b44-428b-421c-be97-d25968707ffb"
      },
      "execution_count": 48,
      "outputs": [
        {
          "output_type": "stream",
          "name": "stdout",
          "text": [
            "[ 1  2  3  3  2  1 99 99 99]\n"
          ]
        }
      ]
    },
    {
      "cell_type": "code",
      "source": [
        "x = np.array([1, 2, 3])\n",
        "grid = np.array([[9, 8, 7],\n",
        "                 [6, 5, 4]])\n",
        "\n",
        "# vertically stack the arrays\n",
        "np.vstack([x, grid])"
      ],
      "metadata": {
        "colab": {
          "base_uri": "https://localhost:8080/"
        },
        "id": "YKFzFa1oGgjL",
        "outputId": "f6d9942a-5153-4e5c-8c10-3ac1c52bdcad"
      },
      "execution_count": 49,
      "outputs": [
        {
          "output_type": "execute_result",
          "data": {
            "text/plain": [
              "array([[1, 2, 3],\n",
              "       [9, 8, 7],\n",
              "       [6, 5, 4]])"
            ]
          },
          "metadata": {},
          "execution_count": 49
        }
      ]
    },
    {
      "cell_type": "code",
      "source": [
        "# horizontally stack the arrays\n",
        "y = np.array([[99],\n",
        "              [99]])\n",
        "np.hstack([grid, y])"
      ],
      "metadata": {
        "colab": {
          "base_uri": "https://localhost:8080/"
        },
        "id": "LM11sKcHGq1L",
        "outputId": "815e8ef6-46a9-4c18-ed09-3e7c5bf814f8"
      },
      "execution_count": 50,
      "outputs": [
        {
          "output_type": "execute_result",
          "data": {
            "text/plain": [
              "array([[ 9,  8,  7, 99],\n",
              "       [ 6,  5,  4, 99]])"
            ]
          },
          "metadata": {},
          "execution_count": 50
        }
      ]
    },
    {
      "cell_type": "code",
      "source": [
        "x = [1, 2, 3, 99, 99, 3, 2, 1]\n",
        "x1, x2, x3 = np.split(x, [3, 5])\n",
        "print(x1, x2, x3)"
      ],
      "metadata": {
        "colab": {
          "base_uri": "https://localhost:8080/"
        },
        "id": "SwbI44RyHCL0",
        "outputId": "fc6a1bb1-2497-46e5-9328-cb374d61d417"
      },
      "execution_count": 51,
      "outputs": [
        {
          "output_type": "stream",
          "name": "stdout",
          "text": [
            "[1 2 3] [99 99] [3 2 1]\n"
          ]
        }
      ]
    },
    {
      "cell_type": "code",
      "source": [
        "x = np.arange(4)\n",
        "print(\"x     =\", x)\n",
        "print(\"x + 5 =\", x + 5)\n",
        "print(\"x - 5 =\", x - 5)\n",
        "print(\"x * 2 =\", x * 2)\n",
        "print(\"x / 2 =\", x / 2)\n",
        "print(\"x // 2 =\", x // 2)  # floor division"
      ],
      "metadata": {
        "colab": {
          "base_uri": "https://localhost:8080/"
        },
        "id": "KiZMYVTmHS3G",
        "outputId": "87dbef96-07b5-4c5a-a797-516a0d274120"
      },
      "execution_count": 52,
      "outputs": [
        {
          "output_type": "stream",
          "name": "stdout",
          "text": [
            "x     = [0 1 2 3]\n",
            "x + 5 = [5 6 7 8]\n",
            "x - 5 = [-5 -4 -3 -2]\n",
            "x * 2 = [0 2 4 6]\n",
            "x / 2 = [0.  0.5 1.  1.5]\n",
            "x // 2 = [0 0 1 1]\n"
          ]
        }
      ]
    },
    {
      "cell_type": "code",
      "source": [
        "print(\"-x     = \", -x)\n",
        "print(\"x ** 2 = \", x ** 2)\n",
        "print(\"x % 2  = \", x % 2)"
      ],
      "metadata": {
        "colab": {
          "base_uri": "https://localhost:8080/"
        },
        "id": "w49OE3a5HkBv",
        "outputId": "bd8defc7-a6fc-4841-f8bd-358b799403d2"
      },
      "execution_count": 53,
      "outputs": [
        {
          "output_type": "stream",
          "name": "stdout",
          "text": [
            "-x     =  [ 0 -1 -2 -3]\n",
            "x ** 2 =  [0 1 4 9]\n",
            "x % 2  =  [0 1 0 1]\n"
          ]
        }
      ]
    },
    {
      "cell_type": "code",
      "source": [
        "x = np.array([-2, -1, 0, 1, 2])\n",
        "abs(x)"
      ],
      "metadata": {
        "colab": {
          "base_uri": "https://localhost:8080/"
        },
        "id": "r6mNLk-XHqyC",
        "outputId": "ddfb0350-6eaf-4c9d-e53f-e1e30a663c45"
      },
      "execution_count": 54,
      "outputs": [
        {
          "output_type": "execute_result",
          "data": {
            "text/plain": [
              "array([2, 1, 0, 1, 2])"
            ]
          },
          "metadata": {},
          "execution_count": 54
        }
      ]
    },
    {
      "cell_type": "code",
      "source": [
        "theta = np.linspace(0, np.pi, 3)\n",
        "theta"
      ],
      "metadata": {
        "colab": {
          "base_uri": "https://localhost:8080/"
        },
        "id": "rp8KRjBnIE31",
        "outputId": "d0a6b9cc-6359-4b06-d183-53d69381d2b8"
      },
      "execution_count": 55,
      "outputs": [
        {
          "output_type": "execute_result",
          "data": {
            "text/plain": [
              "array([0.        , 1.57079633, 3.14159265])"
            ]
          },
          "metadata": {},
          "execution_count": 55
        }
      ]
    },
    {
      "cell_type": "code",
      "source": [
        "print(\"theta      = \", theta)\n",
        "print(\"sin(theta) = \", np.sin(theta))\n",
        "print(\"cos(theta) = \", np.cos(theta))\n",
        "print(\"tan(theta) = \", np.tan(theta))"
      ],
      "metadata": {
        "colab": {
          "base_uri": "https://localhost:8080/"
        },
        "id": "wYikJ4P7IGg0",
        "outputId": "1a907f64-e863-420b-f2c3-fbef43621062"
      },
      "execution_count": 56,
      "outputs": [
        {
          "output_type": "stream",
          "name": "stdout",
          "text": [
            "theta      =  [0.         1.57079633 3.14159265]\n",
            "sin(theta) =  [0.0000000e+00 1.0000000e+00 1.2246468e-16]\n",
            "cos(theta) =  [ 1.000000e+00  6.123234e-17 -1.000000e+00]\n",
            "tan(theta) =  [ 0.00000000e+00  1.63312394e+16 -1.22464680e-16]\n"
          ]
        }
      ]
    },
    {
      "cell_type": "code",
      "source": [
        "a = np.array([0, 1, 2])\n",
        "b = np.array([5, 5, 5])\n",
        "a + b"
      ],
      "metadata": {
        "colab": {
          "base_uri": "https://localhost:8080/"
        },
        "id": "cfTh_KZjINaK",
        "outputId": "4672099b-9fbd-46c6-ddae-2508d39a928b"
      },
      "execution_count": 57,
      "outputs": [
        {
          "output_type": "execute_result",
          "data": {
            "text/plain": [
              "array([5, 6, 7])"
            ]
          },
          "metadata": {},
          "execution_count": 57
        }
      ]
    },
    {
      "cell_type": "code",
      "source": [
        "M = np.ones((3, 3))\n",
        "M"
      ],
      "metadata": {
        "colab": {
          "base_uri": "https://localhost:8080/"
        },
        "id": "JwWToHtmI1fK",
        "outputId": "0f6694c2-7686-48c3-9794-f46dbd048f59"
      },
      "execution_count": 58,
      "outputs": [
        {
          "output_type": "execute_result",
          "data": {
            "text/plain": [
              "array([[1., 1., 1.],\n",
              "       [1., 1., 1.],\n",
              "       [1., 1., 1.]])"
            ]
          },
          "metadata": {},
          "execution_count": 58
        }
      ]
    },
    {
      "cell_type": "code",
      "source": [
        "M = np.ones((3, 3))\n",
        "M"
      ],
      "metadata": {
        "colab": {
          "base_uri": "https://localhost:8080/"
        },
        "id": "P-LrigGHI4q5",
        "outputId": "87d57fc1-9cea-4b62-ce1d-fbcaf66a3bfe"
      },
      "execution_count": 59,
      "outputs": [
        {
          "output_type": "execute_result",
          "data": {
            "text/plain": [
              "array([[1., 1., 1.],\n",
              "       [1., 1., 1.],\n",
              "       [1., 1., 1.]])"
            ]
          },
          "metadata": {},
          "execution_count": 59
        }
      ]
    },
    {
      "cell_type": "code",
      "source": [
        "M + a"
      ],
      "metadata": {
        "colab": {
          "base_uri": "https://localhost:8080/"
        },
        "id": "cB9K9DXsI9wb",
        "outputId": "27a292e5-3947-49df-bd30-13754a23ed18"
      },
      "execution_count": 60,
      "outputs": [
        {
          "output_type": "execute_result",
          "data": {
            "text/plain": [
              "array([[1., 2., 3.],\n",
              "       [1., 2., 3.],\n",
              "       [1., 2., 3.]])"
            ]
          },
          "metadata": {},
          "execution_count": 60
        }
      ]
    },
    {
      "cell_type": "code",
      "source": [
        "import numpy as np\n",
        "rand = np.random.RandomState(42)\n",
        "\n",
        "x = rand.randint(100, size=10)\n",
        "print(x)"
      ],
      "metadata": {
        "colab": {
          "base_uri": "https://localhost:8080/"
        },
        "id": "ZeLnguB_JjqK",
        "outputId": "29c5be70-91a5-4b93-c5cf-855bac9c7e44"
      },
      "execution_count": 61,
      "outputs": [
        {
          "output_type": "stream",
          "name": "stdout",
          "text": [
            "[51 92 14 71 60 20 82 86 74 74]\n"
          ]
        }
      ]
    },
    {
      "cell_type": "code",
      "source": [
        "mean = [0, 0]\n",
        "cov = [[1, 2],\n",
        "       [2, 5]]\n",
        "X = rand.multivariate_normal(mean, cov, 100)\n",
        "X.shape"
      ],
      "metadata": {
        "colab": {
          "base_uri": "https://localhost:8080/"
        },
        "id": "i_MnIyIRJvFs",
        "outputId": "4adbd458-67dc-4038-d4ed-67e3f7873610"
      },
      "execution_count": 63,
      "outputs": [
        {
          "output_type": "execute_result",
          "data": {
            "text/plain": [
              "(100, 2)"
            ]
          },
          "metadata": {},
          "execution_count": 63
        }
      ]
    },
    {
      "cell_type": "code",
      "source": [
        "%matplotlib inline\n",
        "import matplotlib.pyplot as plt\n",
        "import seaborn; seaborn.set()  # for plot styling\n",
        "\n",
        "plt.scatter(X[:, 0], X[:, 1]);"
      ],
      "metadata": {
        "colab": {
          "base_uri": "https://localhost:8080/",
          "height": 268
        },
        "id": "c5UYIH4YJqQo",
        "outputId": "254d3380-3d52-4e55-ec54-6577ea9a0982"
      },
      "execution_count": 64,
      "outputs": [
        {
          "output_type": "display_data",
          "data": {
            "text/plain": [
              "<Figure size 432x288 with 1 Axes>"
            ],
            "image/png": "[encoded data removed]"
          },
          "metadata": {}
        }
      ]
    },
    {
      "cell_type": "code",
      "source": [
        "name = ['Alice', 'Bob', 'Cathy', 'Doug']\n",
        "age = [25, 45, 37, 19]\n",
        "weight = [55.0, 85.5, 68.0, 61.5]"
      ],
      "metadata": {
        "id": "OBhBGPOjJysI"
      },
      "execution_count": 65,
      "outputs": []
    },
    {
      "cell_type": "code",
      "source": [
        "x = np.zeros(4, dtype=int)"
      ],
      "metadata": {
        "id": "yLr85FS5KT1j"
      },
      "execution_count": 66,
      "outputs": []
    },
    {
      "cell_type": "code",
      "source": [
        "# Use a compound data type for structured arrays\n",
        "data = np.zeros(4, dtype={'names':('name', 'age', 'weight'),\n",
        "                          'formats':('U10', 'i4', 'f8')})\n",
        "print(data.dtype)"
      ],
      "metadata": {
        "colab": {
          "base_uri": "https://localhost:8080/"
        },
        "id": "X19T7sSQKVsx",
        "outputId": "4eb47411-ec40-4b7d-fe84-8bc27d27a8b5"
      },
      "execution_count": 67,
      "outputs": [
        {
          "output_type": "stream",
          "name": "stdout",
          "text": [
            "[('name', '<U10'), ('age', '<i4'), ('weight', '<f8')]\n"
          ]
        }
      ]
    },
    {
      "cell_type": "code",
      "source": [
        "data['name'] = name\n",
        "data['age'] = age\n",
        "data['weight'] = weight\n",
        "print(data)"
      ],
      "metadata": {
        "colab": {
          "base_uri": "https://localhost:8080/"
        },
        "id": "6LH99I3qKesm",
        "outputId": "dbd46384-9a05-4a86-bf6e-7bdf51c01ec7"
      },
      "execution_count": 68,
      "outputs": [
        {
          "output_type": "stream",
          "name": "stdout",
          "text": [
            "[('Alice', 25, 55. ) ('Bob', 45, 85.5) ('Cathy', 37, 68. )\n",
            " ('Doug', 19, 61.5)]\n"
          ]
        }
      ]
    },
    {
      "cell_type": "code",
      "source": [
        "# Get all names\n",
        "data['name']"
      ],
      "metadata": {
        "colab": {
          "base_uri": "https://localhost:8080/"
        },
        "id": "8Cl7KT0EKlll",
        "outputId": "3eb59bfd-f4d9-418c-9de2-6cc7bb5e3b7c"
      },
      "execution_count": 69,
      "outputs": [
        {
          "output_type": "execute_result",
          "data": {
            "text/plain": [
              "array(['Alice', 'Bob', 'Cathy', 'Doug'], dtype='<U10')"
            ]
          },
          "metadata": {},
          "execution_count": 69
        }
      ]
    },
    {
      "cell_type": "code",
      "source": [
        "# Get first row of data\n",
        "data[0]"
      ],
      "metadata": {
        "colab": {
          "base_uri": "https://localhost:8080/"
        },
        "id": "hw-Bye7JKmVP",
        "outputId": "1c87df79-8439-4483-c55e-d76655b41970"
      },
      "execution_count": 70,
      "outputs": [
        {
          "output_type": "execute_result",
          "data": {
            "text/plain": [
              "('Alice', 25, 55.)"
            ]
          },
          "metadata": {},
          "execution_count": 70
        }
      ]
    },
    {
      "cell_type": "code",
      "source": [
        "# Get the name from the last row\n",
        "data[-1]['name']"
      ],
      "metadata": {
        "colab": {
          "base_uri": "https://localhost:8080/",
          "height": 35
        },
        "id": "a0ugvcKJKn2j",
        "outputId": "e360e8c1-09f6-4f9f-dcac-f50fd1b659e9"
      },
      "execution_count": 71,
      "outputs": [
        {
          "output_type": "execute_result",
          "data": {
            "text/plain": [
              "'Doug'"
            ],
            "application/vnd.google.colaboratory.intrinsic+json": {
              "type": "string"
            }
          },
          "metadata": {},
          "execution_count": 71
        }
      ]
    },
    {
      "cell_type": "code",
      "source": [
        "# Get names where age is under 30\n",
        "data[data['age'] < 30]['name']"
      ],
      "metadata": {
        "colab": {
          "base_uri": "https://localhost:8080/"
        },
        "id": "1xy_fsuTKpwJ",
        "outputId": "816e2166-ff73-46fc-955e-0c8386c3399a"
      },
      "execution_count": 72,
      "outputs": [
        {
          "output_type": "execute_result",
          "data": {
            "text/plain": [
              "array(['Alice', 'Doug'], dtype='<U10')"
            ]
          },
          "metadata": {},
          "execution_count": 72
        }
      ]
    },
    {
      "cell_type": "code",
      "source": [
        ""
      ],
      "metadata": {
        "id": "Yma-ipykKsLe"
      },
      "execution_count": null,
      "outputs": []
    },
    {
      "cell_type": "markdown",
      "source": [
        "#basic to advance\n"
      ],
      "metadata": {
        "id": "JlcrpDefB6UX"
      }
    },
    {
      "cell_type": "code",
      "execution_count": null,
      "metadata": {
        "id": "l0dWrdPpyPrM"
      },
      "outputs": [],
      "source": [
        "import numpy as np"
      ]
    },
    {
      "cell_type": "code",
      "source": [
        "#create a array\n",
        "my_list1=[1,2,3,4]\n",
        "my_array1=np.array(my_list1)\n",
        "my_array1"
      ],
      "metadata": {
        "colab": {
          "base_uri": "https://localhost:8080/"
        },
        "id": "DOpcd_d58hcW",
        "outputId": "7d34c8b4-dc82-4f78-91e1-db86facbe619"
      },
      "execution_count": null,
      "outputs": [
        {
          "output_type": "execute_result",
          "data": {
            "text/plain": [
              "array([1, 2, 3, 4])"
            ]
          },
          "metadata": {},
          "execution_count": 2
        }
      ]
    },
    {
      "cell_type": "code",
      "source": [
        "#multi diamention array\n",
        "my_list2=[11,22,33,44]\n",
        "my_lists=[my_list1,my_list2]\n",
        "my_array2=np.array(my_lists)\n",
        "my_array2"
      ],
      "metadata": {
        "colab": {
          "base_uri": "https://localhost:8080/"
        },
        "id": "o6C2g5T789cL",
        "outputId": "8aa5a252-8f9b-4e31-a661-428d46c4b48a"
      },
      "execution_count": null,
      "outputs": [
        {
          "output_type": "execute_result",
          "data": {
            "text/plain": [
              "array([[ 1,  2,  3,  4],\n",
              "       [11, 22, 33, 44]])"
            ]
          },
          "metadata": {},
          "execution_count": 3
        }
      ]
    },
    {
      "cell_type": "code",
      "source": [
        "#check row and column\n",
        "my_array2.shape"
      ],
      "metadata": {
        "colab": {
          "base_uri": "https://localhost:8080/"
        },
        "id": "X_XmoVH59etX",
        "outputId": "71289e18-e831-4b2c-aa51-a365062fa046"
      },
      "execution_count": null,
      "outputs": [
        {
          "output_type": "execute_result",
          "data": {
            "text/plain": [
              "(2, 4)"
            ]
          },
          "metadata": {},
          "execution_count": 4
        }
      ]
    },
    {
      "cell_type": "code",
      "source": [
        "my_array2.dtype"
      ],
      "metadata": {
        "colab": {
          "base_uri": "https://localhost:8080/"
        },
        "id": "OHWTEFGF9uR8",
        "outputId": "c3f79f7b-089a-49a9-ad4b-603a3dace161"
      },
      "execution_count": null,
      "outputs": [
        {
          "output_type": "execute_result",
          "data": {
            "text/plain": [
              "dtype('int64')"
            ]
          },
          "metadata": {},
          "execution_count": 5
        }
      ]
    },
    {
      "cell_type": "code",
      "source": [
        "#zero array\n",
        "np.zeros(5)"
      ],
      "metadata": {
        "colab": {
          "base_uri": "https://localhost:8080/"
        },
        "id": "5omHc8tQ9xnV",
        "outputId": "25592d08-c7a5-4c15-ef7a-a5620a7572cd"
      },
      "execution_count": null,
      "outputs": [
        {
          "output_type": "execute_result",
          "data": {
            "text/plain": [
              "array([0., 0., 0., 0., 0.])"
            ]
          },
          "metadata": {},
          "execution_count": 6
        }
      ]
    },
    {
      "cell_type": "code",
      "source": [
        "my_zeros_array=np.zeros(5)\n",
        "my_zeros_array.dtype"
      ],
      "metadata": {
        "colab": {
          "base_uri": "https://localhost:8080/"
        },
        "id": "P2szEYhK94yl",
        "outputId": "417c98de-f858-4451-96cc-0028ef9bc168"
      },
      "execution_count": null,
      "outputs": [
        {
          "output_type": "execute_result",
          "data": {
            "text/plain": [
              "dtype('float64')"
            ]
          },
          "metadata": {},
          "execution_count": 7
        }
      ]
    },
    {
      "cell_type": "code",
      "source": [
        "np.ones([5,5])"
      ],
      "metadata": {
        "colab": {
          "base_uri": "https://localhost:8080/"
        },
        "id": "6Fs1o898-C3G",
        "outputId": "2f9b6e57-8130-465a-85a0-c320a8d653e8"
      },
      "execution_count": null,
      "outputs": [
        {
          "output_type": "execute_result",
          "data": {
            "text/plain": [
              "array([[1., 1., 1., 1., 1.],\n",
              "       [1., 1., 1., 1., 1.],\n",
              "       [1., 1., 1., 1., 1.],\n",
              "       [1., 1., 1., 1., 1.],\n",
              "       [1., 1., 1., 1., 1.]])"
            ]
          },
          "metadata": {},
          "execution_count": 8
        }
      ]
    },
    {
      "cell_type": "code",
      "source": [
        "np.empty(5)"
      ],
      "metadata": {
        "colab": {
          "base_uri": "https://localhost:8080/"
        },
        "id": "kotT6cbb-Hnb",
        "outputId": "e01da6ff-6f01-47f2-a655-5727c2813b72"
      },
      "execution_count": null,
      "outputs": [
        {
          "output_type": "execute_result",
          "data": {
            "text/plain": [
              "array([2.49518566e-316, 0.00000000e+000, 0.00000000e+000, 0.00000000e+000,\n",
              "       0.00000000e+000])"
            ]
          },
          "metadata": {},
          "execution_count": 9
        }
      ]
    },
    {
      "cell_type": "code",
      "source": [
        "#identity matrix\n",
        "np.eye(5)"
      ],
      "metadata": {
        "colab": {
          "base_uri": "https://localhost:8080/"
        },
        "id": "KSJSNqhX-NkE",
        "outputId": "eed6ee65-8652-4beb-f89c-a5efb9c43750"
      },
      "execution_count": null,
      "outputs": [
        {
          "output_type": "execute_result",
          "data": {
            "text/plain": [
              "array([[1., 0., 0., 0., 0.],\n",
              "       [0., 1., 0., 0., 0.],\n",
              "       [0., 0., 1., 0., 0.],\n",
              "       [0., 0., 0., 1., 0.],\n",
              "       [0., 0., 0., 0., 1.]])"
            ]
          },
          "metadata": {},
          "execution_count": 10
        }
      ]
    },
    {
      "cell_type": "code",
      "source": [
        "np.arange(5)"
      ],
      "metadata": {
        "colab": {
          "base_uri": "https://localhost:8080/"
        },
        "id": "RJoEaGRn-Tp9",
        "outputId": "784815aa-4cc2-45e9-d04b-8669929457b8"
      },
      "execution_count": null,
      "outputs": [
        {
          "output_type": "execute_result",
          "data": {
            "text/plain": [
              "array([0, 1, 2, 3, 4])"
            ]
          },
          "metadata": {},
          "execution_count": 11
        }
      ]
    },
    {
      "cell_type": "code",
      "source": [
        "np.arange(5,50,2)"
      ],
      "metadata": {
        "id": "-e_RaYJm-boN",
        "outputId": "f2875ed5-a2d6-41f3-aa8d-ad6858545464",
        "colab": {
          "base_uri": "https://localhost:8080/"
        }
      },
      "execution_count": null,
      "outputs": [
        {
          "output_type": "execute_result",
          "data": {
            "text/plain": [
              "array([ 5,  7,  9, 11, 13, 15, 17, 19, 21, 23, 25, 27, 29, 31, 33, 35, 37,\n",
              "       39, 41, 43, 45, 47, 49])"
            ]
          },
          "metadata": {},
          "execution_count": 12
        }
      ]
    },
    {
      "cell_type": "markdown",
      "source": [
        "Using array and scallers MAthEMATIC OPERATION"
      ],
      "metadata": {
        "id": "qWaUcyB4fFsN"
      }
    },
    {
      "cell_type": "code",
      "source": [
        "5/2"
      ],
      "metadata": {
        "colab": {
          "base_uri": "https://localhost:8080/"
        },
        "id": "OjfqFphneyJE",
        "outputId": "7cd0920d-5cd5-4646-b7e3-0142afba9d71"
      },
      "execution_count": null,
      "outputs": [
        {
          "output_type": "execute_result",
          "data": {
            "text/plain": [
              "2.5"
            ]
          },
          "metadata": {},
          "execution_count": 13
        }
      ]
    },
    {
      "cell_type": "code",
      "source": [
        "arr1=np.array([[1,2,3],[4,5,6]])\n",
        "arr1"
      ],
      "metadata": {
        "colab": {
          "base_uri": "https://localhost:8080/"
        },
        "id": "EvFeAodufM6R",
        "outputId": "90662970-60f7-4b52-9628-28088ca93edf"
      },
      "execution_count": null,
      "outputs": [
        {
          "output_type": "execute_result",
          "data": {
            "text/plain": [
              "array([[1, 2, 3],\n",
              "       [4, 5, 6]])"
            ]
          },
          "metadata": {},
          "execution_count": 15
        }
      ]
    },
    {
      "cell_type": "code",
      "source": [
        "arr1*arr1"
      ],
      "metadata": {
        "colab": {
          "base_uri": "https://localhost:8080/"
        },
        "id": "s3mtdvngfzD3",
        "outputId": "8eb5b92d-c334-41f4-bcef-d786fd43c932"
      },
      "execution_count": null,
      "outputs": [
        {
          "output_type": "execute_result",
          "data": {
            "text/plain": [
              "array([[ 1,  4,  9],\n",
              "       [16, 25, 36]])"
            ]
          },
          "metadata": {},
          "execution_count": 16
        }
      ]
    },
    {
      "cell_type": "code",
      "source": [
        "arr1-arr1"
      ],
      "metadata": {
        "colab": {
          "base_uri": "https://localhost:8080/"
        },
        "id": "aun-ga-Vf3OB",
        "outputId": "a5391265-7d88-4aaf-c7ad-9402f605dde4"
      },
      "execution_count": null,
      "outputs": [
        {
          "output_type": "execute_result",
          "data": {
            "text/plain": [
              "array([[0, 0, 0],\n",
              "       [0, 0, 0]])"
            ]
          },
          "metadata": {},
          "execution_count": 17
        }
      ]
    },
    {
      "cell_type": "code",
      "source": [
        "1/arr1"
      ],
      "metadata": {
        "colab": {
          "base_uri": "https://localhost:8080/"
        },
        "id": "BIBNhIdZgAfj",
        "outputId": "c841fea9-dd0a-4d8c-d480-0cf247748514"
      },
      "execution_count": null,
      "outputs": [
        {
          "output_type": "execute_result",
          "data": {
            "text/plain": [
              "array([[1.        , 0.5       , 0.33333333],\n",
              "       [0.25      , 0.2       , 0.16666667]])"
            ]
          },
          "metadata": {},
          "execution_count": 18
        }
      ]
    },
    {
      "cell_type": "code",
      "source": [
        "arr1 ** 3"
      ],
      "metadata": {
        "colab": {
          "base_uri": "https://localhost:8080/"
        },
        "id": "onoVhCHpgH0D",
        "outputId": "767d344c-30ea-4dd6-9357-bafee27d0a85"
      },
      "execution_count": null,
      "outputs": [
        {
          "output_type": "execute_result",
          "data": {
            "text/plain": [
              "array([[  1,   8,  27],\n",
              "       [ 64, 125, 216]])"
            ]
          },
          "metadata": {},
          "execution_count": 19
        }
      ]
    },
    {
      "cell_type": "markdown",
      "source": [
        "Indexing Array"
      ],
      "metadata": {
        "id": "hswY4PVLhtXM"
      }
    },
    {
      "cell_type": "code",
      "source": [
        "arr=np.arange(0,11)\n",
        "arr"
      ],
      "metadata": {
        "colab": {
          "base_uri": "https://localhost:8080/"
        },
        "id": "WblA04GBhwGZ",
        "outputId": "ae901e79-57d8-48ce-db5c-718ff9f402aa"
      },
      "execution_count": null,
      "outputs": [
        {
          "output_type": "execute_result",
          "data": {
            "text/plain": [
              "array([ 0,  1,  2,  3,  4,  5,  6,  7,  8,  9, 10])"
            ]
          },
          "metadata": {},
          "execution_count": 21
        }
      ]
    },
    {
      "cell_type": "code",
      "source": [
        "arr[8]"
      ],
      "metadata": {
        "colab": {
          "base_uri": "https://localhost:8080/"
        },
        "id": "pTi771zmiFNU",
        "outputId": "0938e578-0211-4885-ecd9-9f9fad05eee3"
      },
      "execution_count": null,
      "outputs": [
        {
          "output_type": "execute_result",
          "data": {
            "text/plain": [
              "8"
            ]
          },
          "metadata": {},
          "execution_count": 22
        }
      ]
    },
    {
      "cell_type": "code",
      "source": [
        "arr[1:5]"
      ],
      "metadata": {
        "colab": {
          "base_uri": "https://localhost:8080/"
        },
        "id": "Bj2IZUHHiI1p",
        "outputId": "06ce0bd8-c65a-48c8-d68d-1917bd4ef6dc"
      },
      "execution_count": null,
      "outputs": [
        {
          "output_type": "execute_result",
          "data": {
            "text/plain": [
              "array([1, 2, 3, 4])"
            ]
          },
          "metadata": {},
          "execution_count": 23
        }
      ]
    },
    {
      "cell_type": "code",
      "source": [
        "arr[0:5]"
      ],
      "metadata": {
        "colab": {
          "base_uri": "https://localhost:8080/"
        },
        "id": "jG3Ku4HziI4h",
        "outputId": "8ac18c31-9eea-4f12-84d0-ea4b78464bb0"
      },
      "execution_count": null,
      "outputs": [
        {
          "output_type": "execute_result",
          "data": {
            "text/plain": [
              "array([0, 1, 2, 3, 4])"
            ]
          },
          "metadata": {},
          "execution_count": 24
        }
      ]
    },
    {
      "cell_type": "code",
      "source": [
        "arr[0:5] = 100"
      ],
      "metadata": {
        "id": "G2kWGmD3iJG3"
      },
      "execution_count": null,
      "outputs": []
    },
    {
      "cell_type": "code",
      "source": [
        "arr"
      ],
      "metadata": {
        "colab": {
          "base_uri": "https://localhost:8080/"
        },
        "id": "Ko5FVDy8iJJo",
        "outputId": "789e11bd-5304-414b-937b-66267e4f264a"
      },
      "execution_count": null,
      "outputs": [
        {
          "output_type": "execute_result",
          "data": {
            "text/plain": [
              "array([100, 100, 100, 100, 100,   5,   6,   7,   8,   9,  10])"
            ]
          },
          "metadata": {},
          "execution_count": 26
        }
      ]
    },
    {
      "cell_type": "code",
      "source": [
        "arr=np.arange(0,11)"
      ],
      "metadata": {
        "id": "I4LhUu1yig6g"
      },
      "execution_count": null,
      "outputs": []
    },
    {
      "cell_type": "code",
      "source": [
        "slice_of_arr=arr[0:6]\n",
        "slice_of_arr"
      ],
      "metadata": {
        "colab": {
          "base_uri": "https://localhost:8080/"
        },
        "id": "LTQSRVwbinRx",
        "outputId": "57bb56ff-c724-4d0e-b109-4fa303d07ee9"
      },
      "execution_count": null,
      "outputs": [
        {
          "output_type": "execute_result",
          "data": {
            "text/plain": [
              "array([0, 1, 2, 3, 4, 5])"
            ]
          },
          "metadata": {},
          "execution_count": 29
        }
      ]
    },
    {
      "cell_type": "code",
      "source": [
        "slice_of_arr[:]=99\n",
        "slice_of_arr"
      ],
      "metadata": {
        "colab": {
          "base_uri": "https://localhost:8080/"
        },
        "id": "wG1ATeeFivZi",
        "outputId": "2cf6f076-aae5-43c5-87b6-028fab1b0ac5"
      },
      "execution_count": null,
      "outputs": [
        {
          "output_type": "execute_result",
          "data": {
            "text/plain": [
              "array([99, 99, 99, 99, 99, 99])"
            ]
          },
          "metadata": {},
          "execution_count": 30
        }
      ]
    },
    {
      "cell_type": "code",
      "source": [
        "arr"
      ],
      "metadata": {
        "colab": {
          "base_uri": "https://localhost:8080/"
        },
        "id": "cKSQOFedi3xK",
        "outputId": "707a32af-8cb3-4739-e4be-809078fc78fe"
      },
      "execution_count": null,
      "outputs": [
        {
          "output_type": "execute_result",
          "data": {
            "text/plain": [
              "array([99, 99, 99, 99, 99, 99,  6,  7,  8,  9, 10])"
            ]
          },
          "metadata": {},
          "execution_count": 31
        }
      ]
    },
    {
      "cell_type": "code",
      "source": [
        "arr_copy=arr.copy()\n",
        "arr_copy"
      ],
      "metadata": {
        "colab": {
          "base_uri": "https://localhost:8080/"
        },
        "id": "GForcPx4i_sK",
        "outputId": "1781efbc-fb6e-49de-8574-2419a20ccb10"
      },
      "execution_count": null,
      "outputs": [
        {
          "output_type": "execute_result",
          "data": {
            "text/plain": [
              "array([99, 99, 99, 99, 99, 99,  6,  7,  8,  9, 10])"
            ]
          },
          "metadata": {},
          "execution_count": 32
        }
      ]
    },
    {
      "cell_type": "code",
      "source": [
        "arr_2d=np.array(([5,10,15],[20,25,30],[35,40,45]))\n",
        "arr_2d"
      ],
      "metadata": {
        "colab": {
          "base_uri": "https://localhost:8080/"
        },
        "id": "5vlfH6MTjMqq",
        "outputId": "a31e506c-7b16-4774-eb8a-272c789eb40b"
      },
      "execution_count": null,
      "outputs": [
        {
          "output_type": "execute_result",
          "data": {
            "text/plain": [
              "array([[ 5, 10, 15],\n",
              "       [20, 25, 30],\n",
              "       [35, 40, 45]])"
            ]
          },
          "metadata": {},
          "execution_count": 33
        }
      ]
    },
    {
      "cell_type": "code",
      "source": [
        "arr_2d[1]"
      ],
      "metadata": {
        "colab": {
          "base_uri": "https://localhost:8080/"
        },
        "id": "27JRwAF5kAGP",
        "outputId": "f8714f51-0832-41f5-a745-455a92e2559f"
      },
      "execution_count": null,
      "outputs": [
        {
          "output_type": "execute_result",
          "data": {
            "text/plain": [
              "array([20, 25, 30])"
            ]
          },
          "metadata": {},
          "execution_count": 34
        }
      ]
    },
    {
      "cell_type": "code",
      "source": [
        "arr_2d[1][0]"
      ],
      "metadata": {
        "colab": {
          "base_uri": "https://localhost:8080/"
        },
        "id": "BslGjZV0kCvx",
        "outputId": "a0dd76c9-7fcf-4f26-d398-2df9caf94455"
      },
      "execution_count": null,
      "outputs": [
        {
          "output_type": "execute_result",
          "data": {
            "text/plain": [
              "20"
            ]
          },
          "metadata": {},
          "execution_count": 35
        }
      ]
    },
    {
      "cell_type": "code",
      "source": [
        "arr_2d[:2,1:]"
      ],
      "metadata": {
        "colab": {
          "base_uri": "https://localhost:8080/"
        },
        "id": "v6SLMabekPLp",
        "outputId": "b7b6d0d9-13b4-4ac0-eef2-ec6cc941efcb"
      },
      "execution_count": null,
      "outputs": [
        {
          "output_type": "execute_result",
          "data": {
            "text/plain": [
              "array([[10, 15],\n",
              "       [25, 30]])"
            ]
          },
          "metadata": {},
          "execution_count": 36
        }
      ]
    },
    {
      "cell_type": "code",
      "source": [
        "arr2d=np.zeros((10,10))\n",
        "arr2d"
      ],
      "metadata": {
        "colab": {
          "base_uri": "https://localhost:8080/"
        },
        "id": "FXQCzBfLkcUi",
        "outputId": "aad65b50-6799-4757-9dcb-6af6678a6a95"
      },
      "execution_count": null,
      "outputs": [
        {
          "output_type": "execute_result",
          "data": {
            "text/plain": [
              "array([[0., 0., 0., 0., 0., 0., 0., 0., 0., 0.],\n",
              "       [0., 0., 0., 0., 0., 0., 0., 0., 0., 0.],\n",
              "       [0., 0., 0., 0., 0., 0., 0., 0., 0., 0.],\n",
              "       [0., 0., 0., 0., 0., 0., 0., 0., 0., 0.],\n",
              "       [0., 0., 0., 0., 0., 0., 0., 0., 0., 0.],\n",
              "       [0., 0., 0., 0., 0., 0., 0., 0., 0., 0.],\n",
              "       [0., 0., 0., 0., 0., 0., 0., 0., 0., 0.],\n",
              "       [0., 0., 0., 0., 0., 0., 0., 0., 0., 0.],\n",
              "       [0., 0., 0., 0., 0., 0., 0., 0., 0., 0.],\n",
              "       [0., 0., 0., 0., 0., 0., 0., 0., 0., 0.]])"
            ]
          },
          "metadata": {},
          "execution_count": 37
        }
      ]
    },
    {
      "cell_type": "code",
      "source": [
        "arr_length=arr2d.shape[1]\n",
        "arr_length"
      ],
      "metadata": {
        "colab": {
          "base_uri": "https://localhost:8080/"
        },
        "id": "dWebDmERlCo4",
        "outputId": "1f65ad5a-5415-4367-8fd8-c0c491722cf7"
      },
      "execution_count": null,
      "outputs": [
        {
          "output_type": "execute_result",
          "data": {
            "text/plain": [
              "10"
            ]
          },
          "metadata": {},
          "execution_count": 38
        }
      ]
    },
    {
      "cell_type": "code",
      "source": [
        "for i in range(arr_length):\n",
        "  arr2d[i]=1\n",
        "arr2d"
      ],
      "metadata": {
        "colab": {
          "base_uri": "https://localhost:8080/"
        },
        "id": "ArN7m-prlJ-z",
        "outputId": "a55fa94b-7309-4e9a-e0ff-508210cf2e42"
      },
      "execution_count": null,
      "outputs": [
        {
          "output_type": "execute_result",
          "data": {
            "text/plain": [
              "array([[1., 1., 1., 1., 1., 1., 1., 1., 1., 1.],\n",
              "       [1., 1., 1., 1., 1., 1., 1., 1., 1., 1.],\n",
              "       [1., 1., 1., 1., 1., 1., 1., 1., 1., 1.],\n",
              "       [1., 1., 1., 1., 1., 1., 1., 1., 1., 1.],\n",
              "       [1., 1., 1., 1., 1., 1., 1., 1., 1., 1.],\n",
              "       [1., 1., 1., 1., 1., 1., 1., 1., 1., 1.],\n",
              "       [1., 1., 1., 1., 1., 1., 1., 1., 1., 1.],\n",
              "       [1., 1., 1., 1., 1., 1., 1., 1., 1., 1.],\n",
              "       [1., 1., 1., 1., 1., 1., 1., 1., 1., 1.],\n",
              "       [1., 1., 1., 1., 1., 1., 1., 1., 1., 1.]])"
            ]
          },
          "metadata": {},
          "execution_count": 40
        }
      ]
    },
    {
      "cell_type": "code",
      "source": [
        "for i in range(arr_length):\n",
        "  arr2d[i]=i\n",
        "arr2d"
      ],
      "metadata": {
        "colab": {
          "base_uri": "https://localhost:8080/"
        },
        "id": "Bds3lS0ClX35",
        "outputId": "0e54ef31-86c0-42ea-8a84-dc13eab1a658"
      },
      "execution_count": null,
      "outputs": [
        {
          "output_type": "execute_result",
          "data": {
            "text/plain": [
              "array([[0., 0., 0., 0., 0., 0., 0., 0., 0., 0.],\n",
              "       [1., 1., 1., 1., 1., 1., 1., 1., 1., 1.],\n",
              "       [2., 2., 2., 2., 2., 2., 2., 2., 2., 2.],\n",
              "       [3., 3., 3., 3., 3., 3., 3., 3., 3., 3.],\n",
              "       [4., 4., 4., 4., 4., 4., 4., 4., 4., 4.],\n",
              "       [5., 5., 5., 5., 5., 5., 5., 5., 5., 5.],\n",
              "       [6., 6., 6., 6., 6., 6., 6., 6., 6., 6.],\n",
              "       [7., 7., 7., 7., 7., 7., 7., 7., 7., 7.],\n",
              "       [8., 8., 8., 8., 8., 8., 8., 8., 8., 8.],\n",
              "       [9., 9., 9., 9., 9., 9., 9., 9., 9., 9.]])"
            ]
          },
          "metadata": {},
          "execution_count": 41
        }
      ]
    },
    {
      "cell_type": "code",
      "source": [
        "arr2d[[2,4,6,8]]"
      ],
      "metadata": {
        "colab": {
          "base_uri": "https://localhost:8080/"
        },
        "id": "1RRfKVvCllgz",
        "outputId": "23fa0d49-5da9-4cc0-c20f-2b1654fb1f42"
      },
      "execution_count": null,
      "outputs": [
        {
          "output_type": "execute_result",
          "data": {
            "text/plain": [
              "array([[2., 2., 2., 2., 2., 2., 2., 2., 2., 2.],\n",
              "       [4., 4., 4., 4., 4., 4., 4., 4., 4., 4.],\n",
              "       [6., 6., 6., 6., 6., 6., 6., 6., 6., 6.],\n",
              "       [8., 8., 8., 8., 8., 8., 8., 8., 8., 8.]])"
            ]
          },
          "metadata": {},
          "execution_count": 42
        }
      ]
    },
    {
      "cell_type": "markdown",
      "source": [
        "Array Transposition"
      ],
      "metadata": {
        "id": "pMhr2Jj4ek9O"
      }
    },
    {
      "cell_type": "code",
      "source": [
        "import numpy as np"
      ],
      "metadata": {
        "id": "FrEReQtTlpri"
      },
      "execution_count": null,
      "outputs": []
    },
    {
      "cell_type": "code",
      "source": [
        "arr=np.arange(50).reshape(10,5)\n",
        "arr"
      ],
      "metadata": {
        "colab": {
          "base_uri": "https://localhost:8080/"
        },
        "id": "Kl2mGZVzgkwc",
        "outputId": "95c253b9-10d1-491f-e5a6-2b793d215b38"
      },
      "execution_count": null,
      "outputs": [
        {
          "output_type": "execute_result",
          "data": {
            "text/plain": [
              "array([[ 0,  1,  2,  3,  4],\n",
              "       [ 5,  6,  7,  8,  9],\n",
              "       [10, 11, 12, 13, 14],\n",
              "       [15, 16, 17, 18, 19],\n",
              "       [20, 21, 22, 23, 24],\n",
              "       [25, 26, 27, 28, 29],\n",
              "       [30, 31, 32, 33, 34],\n",
              "       [35, 36, 37, 38, 39],\n",
              "       [40, 41, 42, 43, 44],\n",
              "       [45, 46, 47, 48, 49]])"
            ]
          },
          "metadata": {},
          "execution_count": 2
        }
      ]
    },
    {
      "cell_type": "code",
      "source": [
        "arr.T"
      ],
      "metadata": {
        "colab": {
          "base_uri": "https://localhost:8080/"
        },
        "id": "KjyNXPLhg0VU",
        "outputId": "24ad674e-4d32-46e8-bfe0-500197e3d699"
      },
      "execution_count": null,
      "outputs": [
        {
          "output_type": "execute_result",
          "data": {
            "text/plain": [
              "array([[ 0,  5, 10, 15, 20, 25, 30, 35, 40, 45],\n",
              "       [ 1,  6, 11, 16, 21, 26, 31, 36, 41, 46],\n",
              "       [ 2,  7, 12, 17, 22, 27, 32, 37, 42, 47],\n",
              "       [ 3,  8, 13, 18, 23, 28, 33, 38, 43, 48],\n",
              "       [ 4,  9, 14, 19, 24, 29, 34, 39, 44, 49]])"
            ]
          },
          "metadata": {},
          "execution_count": 3
        }
      ]
    },
    {
      "cell_type": "code",
      "source": [
        "np.dot(arr.T,arr)"
      ],
      "metadata": {
        "colab": {
          "base_uri": "https://localhost:8080/"
        },
        "id": "PavyXXtDg5wF",
        "outputId": "3098a1d5-9e1f-466a-acfd-879f0b4a2e5e"
      },
      "execution_count": null,
      "outputs": [
        {
          "output_type": "execute_result",
          "data": {
            "text/plain": [
              "array([[7125, 7350, 7575, 7800, 8025],\n",
              "       [7350, 7585, 7820, 8055, 8290],\n",
              "       [7575, 7820, 8065, 8310, 8555],\n",
              "       [7800, 8055, 8310, 8565, 8820],\n",
              "       [8025, 8290, 8555, 8820, 9085]])"
            ]
          },
          "metadata": {},
          "execution_count": 5
        }
      ]
    },
    {
      "cell_type": "code",
      "source": [
        "arr3d=np.arange(50).reshape(5,5,2)\n",
        "arr3d"
      ],
      "metadata": {
        "colab": {
          "base_uri": "https://localhost:8080/"
        },
        "id": "KYkwEozIhDm7",
        "outputId": "b4871f04-8669-4dd0-8d6f-2fe00573e827"
      },
      "execution_count": null,
      "outputs": [
        {
          "output_type": "execute_result",
          "data": {
            "text/plain": [
              "array([[[ 0,  1],\n",
              "        [ 2,  3],\n",
              "        [ 4,  5],\n",
              "        [ 6,  7],\n",
              "        [ 8,  9]],\n",
              "\n",
              "       [[10, 11],\n",
              "        [12, 13],\n",
              "        [14, 15],\n",
              "        [16, 17],\n",
              "        [18, 19]],\n",
              "\n",
              "       [[20, 21],\n",
              "        [22, 23],\n",
              "        [24, 25],\n",
              "        [26, 27],\n",
              "        [28, 29]],\n",
              "\n",
              "       [[30, 31],\n",
              "        [32, 33],\n",
              "        [34, 35],\n",
              "        [36, 37],\n",
              "        [38, 39]],\n",
              "\n",
              "       [[40, 41],\n",
              "        [42, 43],\n",
              "        [44, 45],\n",
              "        [46, 47],\n",
              "        [48, 49]]])"
            ]
          },
          "metadata": {},
          "execution_count": 7
        }
      ]
    },
    {
      "cell_type": "code",
      "source": [
        "arr3d.transpose(1,0,2)"
      ],
      "metadata": {
        "colab": {
          "base_uri": "https://localhost:8080/"
        },
        "id": "aARcomTbhNBk",
        "outputId": "ba6c09d7-3b79-499e-be77-1ab748257455"
      },
      "execution_count": null,
      "outputs": [
        {
          "output_type": "execute_result",
          "data": {
            "text/plain": [
              "array([[[ 0,  1],\n",
              "        [10, 11],\n",
              "        [20, 21],\n",
              "        [30, 31],\n",
              "        [40, 41]],\n",
              "\n",
              "       [[ 2,  3],\n",
              "        [12, 13],\n",
              "        [22, 23],\n",
              "        [32, 33],\n",
              "        [42, 43]],\n",
              "\n",
              "       [[ 4,  5],\n",
              "        [14, 15],\n",
              "        [24, 25],\n",
              "        [34, 35],\n",
              "        [44, 45]],\n",
              "\n",
              "       [[ 6,  7],\n",
              "        [16, 17],\n",
              "        [26, 27],\n",
              "        [36, 37],\n",
              "        [46, 47]],\n",
              "\n",
              "       [[ 8,  9],\n",
              "        [18, 19],\n",
              "        [28, 29],\n",
              "        [38, 39],\n",
              "        [48, 49]]])"
            ]
          },
          "metadata": {},
          "execution_count": 8
        }
      ]
    },
    {
      "cell_type": "code",
      "source": [
        "arr=np.array([[1,2,3]])\n",
        "arr.swapaxes(0,1)"
      ],
      "metadata": {
        "colab": {
          "base_uri": "https://localhost:8080/"
        },
        "id": "jhoCYDrwhb8V",
        "outputId": "e1f10da2-bd2f-4975-9356-528751f20b98"
      },
      "execution_count": null,
      "outputs": [
        {
          "output_type": "execute_result",
          "data": {
            "text/plain": [
              "array([[1],\n",
              "       [2],\n",
              "       [3]])"
            ]
          },
          "metadata": {},
          "execution_count": 9
        }
      ]
    },
    {
      "cell_type": "markdown",
      "source": [
        "Universal Array"
      ],
      "metadata": {
        "id": "Ob_5rQWSkQYq"
      }
    },
    {
      "cell_type": "code",
      "source": [
        "import numpy as np"
      ],
      "metadata": {
        "id": "mthXlNPmho4M"
      },
      "execution_count": null,
      "outputs": []
    },
    {
      "cell_type": "code",
      "source": [
        "arr=np.arange(11)\n",
        "arr"
      ],
      "metadata": {
        "colab": {
          "base_uri": "https://localhost:8080/"
        },
        "id": "kexcaeDrkdyx",
        "outputId": "eeaae851-3d5c-4981-aa7a-9682ef725036"
      },
      "execution_count": null,
      "outputs": [
        {
          "output_type": "execute_result",
          "data": {
            "text/plain": [
              "array([ 0,  1,  2,  3,  4,  5,  6,  7,  8,  9, 10])"
            ]
          },
          "metadata": {},
          "execution_count": 2
        }
      ]
    },
    {
      "cell_type": "code",
      "source": [
        "np.sqrt(arr)"
      ],
      "metadata": {
        "colab": {
          "base_uri": "https://localhost:8080/"
        },
        "id": "EyQ_hsc4khiJ",
        "outputId": "f51e48c4-5a99-4990-a5a2-ad4dcb850c0e"
      },
      "execution_count": null,
      "outputs": [
        {
          "output_type": "execute_result",
          "data": {
            "text/plain": [
              "array([0.        , 1.        , 1.41421356, 1.73205081, 2.        ,\n",
              "       2.23606798, 2.44948974, 2.64575131, 2.82842712, 3.        ,\n",
              "       3.16227766])"
            ]
          },
          "metadata": {},
          "execution_count": 3
        }
      ]
    },
    {
      "cell_type": "code",
      "source": [
        "np.exp(arr)"
      ],
      "metadata": {
        "colab": {
          "base_uri": "https://localhost:8080/"
        },
        "id": "xRRvgS57kkGv",
        "outputId": "f9e17218-bcd7-427e-8655-d7ed0aa65212"
      },
      "execution_count": null,
      "outputs": [
        {
          "output_type": "execute_result",
          "data": {
            "text/plain": [
              "array([1.00000000e+00, 2.71828183e+00, 7.38905610e+00, 2.00855369e+01,\n",
              "       5.45981500e+01, 1.48413159e+02, 4.03428793e+02, 1.09663316e+03,\n",
              "       2.98095799e+03, 8.10308393e+03, 2.20264658e+04])"
            ]
          },
          "metadata": {},
          "execution_count": 4
        }
      ]
    },
    {
      "cell_type": "code",
      "source": [
        "A = np.random.rand(10)\n",
        "A"
      ],
      "metadata": {
        "colab": {
          "base_uri": "https://localhost:8080/"
        },
        "id": "VaOD9uBikqF_",
        "outputId": "1712f17b-14a1-4765-b250-9dfeff95dec0"
      },
      "execution_count": null,
      "outputs": [
        {
          "output_type": "execute_result",
          "data": {
            "text/plain": [
              "array([0.54014363, 0.91268374, 0.87051241, 0.18635377, 0.89497302,\n",
              "       0.55488811, 0.31680752, 0.67491069, 0.37299782, 0.6034287 ])"
            ]
          },
          "metadata": {},
          "execution_count": 5
        }
      ]
    },
    {
      "cell_type": "code",
      "source": [
        "B = np.random.rand(10)\n",
        "B"
      ],
      "metadata": {
        "colab": {
          "base_uri": "https://localhost:8080/"
        },
        "id": "y3tl8ISIkzcx",
        "outputId": "9883cf3d-98ca-4d0a-bdb5-9fa705c1db92"
      },
      "execution_count": null,
      "outputs": [
        {
          "output_type": "execute_result",
          "data": {
            "text/plain": [
              "array([0.67464518, 0.29139054, 0.47110049, 0.44817434, 0.37233511,\n",
              "       0.66107798, 0.60698411, 0.88909414, 0.89445324, 0.06438533])"
            ]
          },
          "metadata": {},
          "execution_count": 6
        }
      ]
    },
    {
      "cell_type": "code",
      "source": [
        "#binary function\n",
        "np.add(A,B)"
      ],
      "metadata": {
        "colab": {
          "base_uri": "https://localhost:8080/"
        },
        "id": "drbVifAQk71x",
        "outputId": "6338ed8f-9a3b-4814-d046-b4c018c833a1"
      },
      "execution_count": null,
      "outputs": [
        {
          "output_type": "execute_result",
          "data": {
            "text/plain": [
              "array([1.21478881, 1.20407429, 1.3416129 , 0.63452811, 1.26730813,\n",
              "       1.21596609, 0.92379163, 1.56400483, 1.26745106, 0.66781403])"
            ]
          },
          "metadata": {},
          "execution_count": 7
        }
      ]
    },
    {
      "cell_type": "code",
      "source": [
        "np.maximum(A,B)"
      ],
      "metadata": {
        "colab": {
          "base_uri": "https://localhost:8080/"
        },
        "id": "rUg4Kh_3lAKK",
        "outputId": "3d45b8f8-2f52-44f6-f5b1-136634c75e72"
      },
      "execution_count": null,
      "outputs": [
        {
          "output_type": "execute_result",
          "data": {
            "text/plain": [
              "array([0.67464518, 0.91268374, 0.87051241, 0.44817434, 0.89497302,\n",
              "       0.66107798, 0.60698411, 0.88909414, 0.89445324, 0.6034287 ])"
            ]
          },
          "metadata": {},
          "execution_count": 8
        }
      ]
    },
    {
      "cell_type": "code",
      "source": [
        "np.minimum(A,B)"
      ],
      "metadata": {
        "colab": {
          "base_uri": "https://localhost:8080/"
        },
        "id": "TrmwDoq6lNfb",
        "outputId": "c667ee93-a07e-4bb9-fb6e-82e069a08afc"
      },
      "execution_count": null,
      "outputs": [
        {
          "output_type": "execute_result",
          "data": {
            "text/plain": [
              "array([0.54014363, 0.29139054, 0.47110049, 0.18635377, 0.37233511,\n",
              "       0.55488811, 0.31680752, 0.67491069, 0.37299782, 0.06438533])"
            ]
          },
          "metadata": {},
          "execution_count": 9
        }
      ]
    },
    {
      "cell_type": "markdown",
      "source": [
        "Array Processing"
      ],
      "metadata": {
        "id": "oq99D-hminay"
      }
    },
    {
      "cell_type": "code",
      "source": [
        "import numpy as np\n",
        "\n",
        "import matplotlib.pyplot as plt\n",
        "%matplotlib inline"
      ],
      "metadata": {
        "id": "S3LblUqJmdvY"
      },
      "execution_count": null,
      "outputs": []
    },
    {
      "cell_type": "code",
      "source": [
        "points=np.arange(-5,5,0.01)\n",
        " "
      ],
      "metadata": {
        "id": "1UQucQstoU32"
      },
      "execution_count": null,
      "outputs": []
    },
    {
      "cell_type": "code",
      "source": [
        "dx,dy=np.meshgrid(points,points)\n",
        "dx"
      ],
      "metadata": {
        "colab": {
          "base_uri": "https://localhost:8080/"
        },
        "id": "p5cSEDCOoso2",
        "outputId": "8ef75f0d-39f1-486f-9c3f-1e67c2d36e3f"
      },
      "execution_count": null,
      "outputs": [
        {
          "output_type": "execute_result",
          "data": {
            "text/plain": [
              "array([[-5.  , -4.99, -4.98, ...,  4.97,  4.98,  4.99],\n",
              "       [-5.  , -4.99, -4.98, ...,  4.97,  4.98,  4.99],\n",
              "       [-5.  , -4.99, -4.98, ...,  4.97,  4.98,  4.99],\n",
              "       ...,\n",
              "       [-5.  , -4.99, -4.98, ...,  4.97,  4.98,  4.99],\n",
              "       [-5.  , -4.99, -4.98, ...,  4.97,  4.98,  4.99],\n",
              "       [-5.  , -4.99, -4.98, ...,  4.97,  4.98,  4.99]])"
            ]
          },
          "metadata": {},
          "execution_count": 4
        }
      ]
    },
    {
      "cell_type": "code",
      "source": [
        "dy"
      ],
      "metadata": {
        "colab": {
          "base_uri": "https://localhost:8080/"
        },
        "id": "cbRLxmffo9I_",
        "outputId": "bbe5492d-6fd1-49ce-857c-338c070c2842"
      },
      "execution_count": null,
      "outputs": [
        {
          "output_type": "execute_result",
          "data": {
            "text/plain": [
              "array([[-5.  , -5.  , -5.  , ..., -5.  , -5.  , -5.  ],\n",
              "       [-4.99, -4.99, -4.99, ..., -4.99, -4.99, -4.99],\n",
              "       [-4.98, -4.98, -4.98, ..., -4.98, -4.98, -4.98],\n",
              "       ...,\n",
              "       [ 4.97,  4.97,  4.97, ...,  4.97,  4.97,  4.97],\n",
              "       [ 4.98,  4.98,  4.98, ...,  4.98,  4.98,  4.98],\n",
              "       [ 4.99,  4.99,  4.99, ...,  4.99,  4.99,  4.99]])"
            ]
          },
          "metadata": {},
          "execution_count": 6
        }
      ]
    },
    {
      "cell_type": "code",
      "source": [
        "z =(np.sin(dx) + np.sin(dy))\n",
        "z"
      ],
      "metadata": {
        "colab": {
          "base_uri": "https://localhost:8080/"
        },
        "id": "K5NSoeIYpAOU",
        "outputId": "ba3492be-786f-4224-a963-164dc26488ed"
      },
      "execution_count": null,
      "outputs": [
        {
          "output_type": "execute_result",
          "data": {
            "text/plain": [
              "array([[ 1.91784855e+00,  1.92063718e+00,  1.92332964e+00, ...,\n",
              "        -8.07710558e-03, -5.48108704e-03, -2.78862876e-03],\n",
              "       [ 1.92063718e+00,  1.92342581e+00,  1.92611827e+00, ...,\n",
              "        -5.28847682e-03, -2.69245827e-03, -5.85087534e-14],\n",
              "       [ 1.92332964e+00,  1.92611827e+00,  1.92881072e+00, ...,\n",
              "        -2.59601854e-03, -5.63993297e-14,  2.69245827e-03],\n",
              "       ...,\n",
              "       [-8.07710558e-03, -5.28847682e-03, -2.59601854e-03, ...,\n",
              "        -1.93400276e+00, -1.93140674e+00, -1.92871428e+00],\n",
              "       [-5.48108704e-03, -2.69245827e-03, -5.63993297e-14, ...,\n",
              "        -1.93140674e+00, -1.92881072e+00, -1.92611827e+00],\n",
              "       [-2.78862876e-03, -5.85087534e-14,  2.69245827e-03, ...,\n",
              "        -1.92871428e+00, -1.92611827e+00, -1.92342581e+00]])"
            ]
          },
          "metadata": {},
          "execution_count": 7
        }
      ]
    },
    {
      "cell_type": "code",
      "source": [
        "plt.imshow(z)"
      ],
      "metadata": {
        "colab": {
          "base_uri": "https://localhost:8080/",
          "height": 286
        },
        "id": "DkcsaIotpLKf",
        "outputId": "72917b02-8ca8-407d-f26d-13a5d21e2b4f"
      },
      "execution_count": null,
      "outputs": [
        {
          "output_type": "execute_result",
          "data": {
            "text/plain": [
              "<matplotlib.image.AxesImage at 0x7fed43d0c090>"
            ]
          },
          "metadata": {},
          "execution_count": 8
        },
        {
          "output_type": "display_data",
          "data": {
            "text/plain": [
              "<Figure size 432x288 with 1 Axes>"
            ],
            "image/png": "[encoded data removed]"
          },
          "metadata": {
            "needs_background": "light"
          }
        }
      ]
    },
    {
      "cell_type": "code",
      "source": [
        "plt.imshow(z)\n",
        "plt.colorbar()\n",
        "plt.title('Plot for sin(x)+sin(y)')"
      ],
      "metadata": {
        "colab": {
          "base_uri": "https://localhost:8080/",
          "height": 298
        },
        "id": "lBk8o26spXz-",
        "outputId": "f5d6ee0e-0fd7-4eb3-a27c-d2f7c286933d"
      },
      "execution_count": null,
      "outputs": [
        {
          "output_type": "execute_result",
          "data": {
            "text/plain": [
              "Text(0.5, 1.0, 'Plot for sin(x)+sin(y)')"
            ]
          },
          "metadata": {},
          "execution_count": 9
        },
        {
          "output_type": "display_data",
          "data": {
            "text/plain": [
              "<Figure size 432x288 with 2 Axes>"
            ],
            "image/png": "[encoded data removed]"
          },
          "metadata": {
            "needs_background": "light"
          }
        }
      ]
    },
    {
      "cell_type": "code",
      "source": [
        "#numpy where\n",
        "A=np.array([1,2,3,4])\n",
        "B=np.array([100,200,300,400])"
      ],
      "metadata": {
        "id": "AQMcUv5MpueC"
      },
      "execution_count": null,
      "outputs": []
    },
    {
      "cell_type": "code",
      "source": [
        "condition=np.array([True,True,False,False])"
      ],
      "metadata": {
        "id": "VPn1wQJfp8mk"
      },
      "execution_count": null,
      "outputs": []
    },
    {
      "cell_type": "code",
      "source": [
        "answer=[(A_val if cond else B_val) for A_val,B_val,cond in zip(A,B,condition)]"
      ],
      "metadata": {
        "id": "NGjo0-6bqFke"
      },
      "execution_count": null,
      "outputs": []
    },
    {
      "cell_type": "code",
      "source": [
        "answer"
      ],
      "metadata": {
        "colab": {
          "base_uri": "https://localhost:8080/"
        },
        "id": "p02ahCMGqoi3",
        "outputId": "bcde6d58-4d89-4a46-c1b8-57e01101d5a1"
      },
      "execution_count": null,
      "outputs": [
        {
          "output_type": "execute_result",
          "data": {
            "text/plain": [
              "[1, 2, 300, 400]"
            ]
          },
          "metadata": {},
          "execution_count": 15
        }
      ]
    },
    {
      "cell_type": "code",
      "source": [
        "answer2=np.where(condition,A,B)"
      ],
      "metadata": {
        "id": "XameAFGIq7YF"
      },
      "execution_count": null,
      "outputs": []
    },
    {
      "cell_type": "code",
      "source": [
        "answer2"
      ],
      "metadata": {
        "colab": {
          "base_uri": "https://localhost:8080/"
        },
        "id": "l275vvozrBMU",
        "outputId": "fa423c75-3446-4261-bad3-50f450ff9a7b"
      },
      "execution_count": null,
      "outputs": [
        {
          "output_type": "execute_result",
          "data": {
            "text/plain": [
              "array([  1,   2, 300, 400])"
            ]
          },
          "metadata": {},
          "execution_count": 17
        }
      ]
    },
    {
      "cell_type": "code",
      "source": [
        "from numpy.random import randn"
      ],
      "metadata": {
        "id": "ZQlRWvQWrH1f"
      },
      "execution_count": null,
      "outputs": []
    },
    {
      "cell_type": "code",
      "source": [
        "arr=randn(5,5)\n",
        "arr"
      ],
      "metadata": {
        "colab": {
          "base_uri": "https://localhost:8080/"
        },
        "id": "_uYuo0FZrXuO",
        "outputId": "a4f329eb-0f5a-4b3c-d874-0e65a87250cc"
      },
      "execution_count": null,
      "outputs": [
        {
          "output_type": "execute_result",
          "data": {
            "text/plain": [
              "array([[-0.75234087, -2.36250373, -2.93349218, -0.05639713,  2.52807024],\n",
              "       [ 0.72359195,  2.26852963,  0.04749498, -0.09984429,  1.08103423],\n",
              "       [-0.19439774,  1.58647558, -1.57192166, -1.78353456,  0.25556491],\n",
              "       [-0.95187906,  0.99926388, -0.69591541,  0.86469626,  1.63711238],\n",
              "       [ 2.10809484,  0.38792297,  0.28871659, -0.3449135 ,  0.68537066]])"
            ]
          },
          "metadata": {},
          "execution_count": 19
        }
      ]
    },
    {
      "cell_type": "code",
      "source": [
        "np.where(arr<0,0,arr)"
      ],
      "metadata": {
        "colab": {
          "base_uri": "https://localhost:8080/"
        },
        "id": "VnHYXQvRrcoM",
        "outputId": "a80bf665-84b0-45a1-a104-2fe5553449f8"
      },
      "execution_count": null,
      "outputs": [
        {
          "output_type": "execute_result",
          "data": {
            "text/plain": [
              "array([[0.        , 0.        , 0.        , 0.        , 2.52807024],\n",
              "       [0.72359195, 2.26852963, 0.04749498, 0.        , 1.08103423],\n",
              "       [0.        , 1.58647558, 0.        , 0.        , 0.25556491],\n",
              "       [0.        , 0.99926388, 0.        , 0.86469626, 1.63711238],\n",
              "       [2.10809484, 0.38792297, 0.28871659, 0.        , 0.68537066]])"
            ]
          },
          "metadata": {},
          "execution_count": 20
        }
      ]
    },
    {
      "cell_type": "code",
      "source": [
        "arr=np.array([[1,2,3],[4,5,6],[7,8,9]])"
      ],
      "metadata": {
        "id": "XTZd3MA7rktA"
      },
      "execution_count": null,
      "outputs": []
    },
    {
      "cell_type": "code",
      "source": [
        "arr"
      ],
      "metadata": {
        "colab": {
          "base_uri": "https://localhost:8080/"
        },
        "id": "9k5p0z3CrxFI",
        "outputId": "6a7fc276-f924-4fd4-ea75-4e1375d48d55"
      },
      "execution_count": null,
      "outputs": [
        {
          "output_type": "execute_result",
          "data": {
            "text/plain": [
              "array([[1, 2, 3],\n",
              "       [4, 5, 6],\n",
              "       [7, 8, 9]])"
            ]
          },
          "metadata": {},
          "execution_count": 22
        }
      ]
    },
    {
      "cell_type": "code",
      "source": [
        "arr.sum()"
      ],
      "metadata": {
        "colab": {
          "base_uri": "https://localhost:8080/"
        },
        "id": "ueP0FduIryl_",
        "outputId": "b8241a64-ee98-4ab0-f14b-c22318dc58a5"
      },
      "execution_count": null,
      "outputs": [
        {
          "output_type": "execute_result",
          "data": {
            "text/plain": [
              "45"
            ]
          },
          "metadata": {},
          "execution_count": 23
        }
      ]
    },
    {
      "cell_type": "code",
      "source": [
        "arr.sum(0)"
      ],
      "metadata": {
        "colab": {
          "base_uri": "https://localhost:8080/"
        },
        "id": "qQg2GybIr1JN",
        "outputId": "56f967c8-c9e8-4457-fac1-9ee783f3edd4"
      },
      "execution_count": null,
      "outputs": [
        {
          "output_type": "execute_result",
          "data": {
            "text/plain": [
              "array([12, 15, 18])"
            ]
          },
          "metadata": {},
          "execution_count": 24
        }
      ]
    },
    {
      "cell_type": "code",
      "source": [
        "arr.mean()"
      ],
      "metadata": {
        "colab": {
          "base_uri": "https://localhost:8080/"
        },
        "id": "EGgC6bAcsATV",
        "outputId": "8ea05721-8a01-4d73-cd68-4f4a52d84224"
      },
      "execution_count": null,
      "outputs": [
        {
          "output_type": "execute_result",
          "data": {
            "text/plain": [
              "5.0"
            ]
          },
          "metadata": {},
          "execution_count": 25
        }
      ]
    },
    {
      "cell_type": "code",
      "source": [
        "arr.std()"
      ],
      "metadata": {
        "colab": {
          "base_uri": "https://localhost:8080/"
        },
        "id": "GCjrSivisD9i",
        "outputId": "96d12eb8-5919-4f00-9a4e-1282f4303e58"
      },
      "execution_count": null,
      "outputs": [
        {
          "output_type": "execute_result",
          "data": {
            "text/plain": [
              "2.581988897471611"
            ]
          },
          "metadata": {},
          "execution_count": 26
        }
      ]
    },
    {
      "cell_type": "code",
      "source": [
        "#variance\n",
        "arr.var()"
      ],
      "metadata": {
        "colab": {
          "base_uri": "https://localhost:8080/"
        },
        "id": "_2HQhsLEsF3K",
        "outputId": "cff1ce97-fcd8-4a03-c201-79630bbaf212"
      },
      "execution_count": null,
      "outputs": [
        {
          "output_type": "execute_result",
          "data": {
            "text/plain": [
              "6.666666666666667"
            ]
          },
          "metadata": {},
          "execution_count": 27
        }
      ]
    },
    {
      "cell_type": "code",
      "source": [
        "bool_arr=np.array([True,False,True])"
      ],
      "metadata": {
        "id": "VG3hEirrse2n"
      },
      "execution_count": null,
      "outputs": []
    },
    {
      "cell_type": "code",
      "source": [
        "bool_arr.any()"
      ],
      "metadata": {
        "colab": {
          "base_uri": "https://localhost:8080/"
        },
        "id": "xYvw_XaksorQ",
        "outputId": "a4a1bc1e-c9a9-4f95-80ed-ae5e292f931a"
      },
      "execution_count": null,
      "outputs": [
        {
          "output_type": "execute_result",
          "data": {
            "text/plain": [
              "True"
            ]
          },
          "metadata": {},
          "execution_count": 29
        }
      ]
    },
    {
      "cell_type": "code",
      "source": [
        "bool_arr.all()"
      ],
      "metadata": {
        "colab": {
          "base_uri": "https://localhost:8080/"
        },
        "id": "PHc9MTaOssLA",
        "outputId": "0543eee5-3f5f-4599-e13f-712a72ba5e74"
      },
      "execution_count": null,
      "outputs": [
        {
          "output_type": "execute_result",
          "data": {
            "text/plain": [
              "False"
            ]
          },
          "metadata": {},
          "execution_count": 30
        }
      ]
    },
    {
      "cell_type": "code",
      "source": [
        "#sort\n",
        "arr=randn(5)\n",
        "arr"
      ],
      "metadata": {
        "colab": {
          "base_uri": "https://localhost:8080/"
        },
        "id": "x7Cff3h6swPf",
        "outputId": "e593fb23-1ffa-4fb2-9bcf-b2c8cf43223e"
      },
      "execution_count": null,
      "outputs": [
        {
          "output_type": "execute_result",
          "data": {
            "text/plain": [
              "array([-0.74291261, -0.9533887 ,  0.61921518, -0.68306642,  1.10895898])"
            ]
          },
          "metadata": {},
          "execution_count": 31
        }
      ]
    },
    {
      "cell_type": "code",
      "source": [
        "arr.sort()\n",
        "arr"
      ],
      "metadata": {
        "colab": {
          "base_uri": "https://localhost:8080/"
        },
        "id": "uYtkDeP2s6fZ",
        "outputId": "366cc547-35f1-4f91-d5e0-36d5aedec438"
      },
      "execution_count": null,
      "outputs": [
        {
          "output_type": "execute_result",
          "data": {
            "text/plain": [
              "array([-0.9533887 , -0.74291261, -0.68306642,  0.61921518,  1.10895898])"
            ]
          },
          "metadata": {},
          "execution_count": 33
        }
      ]
    },
    {
      "cell_type": "code",
      "source": [
        "countries=np.array(['Bangladesh','India','Usa','Germany','Usa'])"
      ],
      "metadata": {
        "id": "zLhCRKRys_kO"
      },
      "execution_count": null,
      "outputs": []
    },
    {
      "cell_type": "code",
      "source": [
        "countries"
      ],
      "metadata": {
        "colab": {
          "base_uri": "https://localhost:8080/"
        },
        "id": "kGbuVEK6tLsY",
        "outputId": "27dcabfb-9efe-4267-aba7-2c4da9f97399"
      },
      "execution_count": null,
      "outputs": [
        {
          "output_type": "execute_result",
          "data": {
            "text/plain": [
              "array(['Bangladesh', 'India', 'Usa', 'Germany', 'Usa'], dtype='<U10')"
            ]
          },
          "metadata": {},
          "execution_count": 38
        }
      ]
    },
    {
      "cell_type": "code",
      "source": [
        "np.unique(countries)"
      ],
      "metadata": {
        "colab": {
          "base_uri": "https://localhost:8080/"
        },
        "id": "KFphwN7wtQt2",
        "outputId": "7d197ded-6b37-426f-8795-7ab6e73b9106"
      },
      "execution_count": null,
      "outputs": [
        {
          "output_type": "execute_result",
          "data": {
            "text/plain": [
              "array(['Bangladesh', 'Germany', 'India', 'Usa'], dtype='<U10')"
            ]
          },
          "metadata": {},
          "execution_count": 39
        }
      ]
    },
    {
      "cell_type": "code",
      "source": [
        "import numpy as np"
      ],
      "metadata": {
        "id": "bwuBUY2N-Trd"
      },
      "execution_count": null,
      "outputs": []
    },
    {
      "cell_type": "code",
      "source": [
        "countries=np.array(['Bangladesh','India','Usa','Germany','Usa'])\n",
        "np.in1d(['France','Usa','Sweden'],countries)"
      ],
      "metadata": {
        "colab": {
          "base_uri": "https://localhost:8080/"
        },
        "id": "fZwwJ5nP-xEK",
        "outputId": "fb4072b8-65dc-491b-e4a1-17632681b725"
      },
      "execution_count": null,
      "outputs": [
        {
          "output_type": "execute_result",
          "data": {
            "text/plain": [
              "array([False,  True, False])"
            ]
          },
          "metadata": {},
          "execution_count": 3
        }
      ]
    },
    {
      "cell_type": "markdown",
      "source": [
        "Array Input Output"
      ],
      "metadata": {
        "id": "Y0Vy7CHR-5TK"
      }
    },
    {
      "cell_type": "code",
      "source": [
        "arr=np.arange(5)"
      ],
      "metadata": {
        "id": "g-mwS-bq-3cn"
      },
      "execution_count": null,
      "outputs": []
    },
    {
      "cell_type": "code",
      "source": [
        "arr"
      ],
      "metadata": {
        "colab": {
          "base_uri": "https://localhost:8080/"
        },
        "id": "L-P5fkj0-5BS",
        "outputId": "140584ee-42a4-4b2b-84a7-eb5942c9fb11"
      },
      "execution_count": null,
      "outputs": [
        {
          "output_type": "execute_result",
          "data": {
            "text/plain": [
              "array([0, 1, 2, 3, 4])"
            ]
          },
          "metadata": {},
          "execution_count": 5
        }
      ]
    },
    {
      "cell_type": "code",
      "source": [
        "np.save('myarray',arr)"
      ],
      "metadata": {
        "id": "9i3nHu1n_CWS"
      },
      "execution_count": null,
      "outputs": []
    },
    {
      "cell_type": "code",
      "source": [
        "arr=np.arange(10)"
      ],
      "metadata": {
        "id": "JY0MZm0b_KV8"
      },
      "execution_count": null,
      "outputs": []
    },
    {
      "cell_type": "code",
      "source": [
        "arr"
      ],
      "metadata": {
        "colab": {
          "base_uri": "https://localhost:8080/"
        },
        "id": "iy9wlV_z_OO8",
        "outputId": "5a701d06-f151-49fe-fd8d-90632d183b1b"
      },
      "execution_count": null,
      "outputs": [
        {
          "output_type": "execute_result",
          "data": {
            "text/plain": [
              "array([0, 1, 2, 3, 4, 5, 6, 7, 8, 9])"
            ]
          },
          "metadata": {},
          "execution_count": 8
        }
      ]
    },
    {
      "cell_type": "code",
      "source": [
        "np.load('myarray.npy')"
      ],
      "metadata": {
        "colab": {
          "base_uri": "https://localhost:8080/"
        },
        "id": "wv1ZjckG_PHA",
        "outputId": "7d3085c0-f11f-4bb9-97bf-ffcba9689fa9"
      },
      "execution_count": null,
      "outputs": [
        {
          "output_type": "execute_result",
          "data": {
            "text/plain": [
              "array([0, 1, 2, 3, 4])"
            ]
          },
          "metadata": {},
          "execution_count": 9
        }
      ]
    },
    {
      "cell_type": "code",
      "source": [
        "arr1=np.load('myarray.npy')"
      ],
      "metadata": {
        "id": "muS6ay8v_XOY"
      },
      "execution_count": null,
      "outputs": []
    },
    {
      "cell_type": "code",
      "source": [
        "arr1"
      ],
      "metadata": {
        "colab": {
          "base_uri": "https://localhost:8080/"
        },
        "id": "NmGK0KNL_iu4",
        "outputId": "4b752e19-d232-48e3-a551-da670280c5fe"
      },
      "execution_count": null,
      "outputs": [
        {
          "output_type": "execute_result",
          "data": {
            "text/plain": [
              "array([0, 1, 2, 3, 4])"
            ]
          },
          "metadata": {},
          "execution_count": 11
        }
      ]
    },
    {
      "cell_type": "code",
      "source": [
        "arr2=arr"
      ],
      "metadata": {
        "id": "6zb7KMw9_j6J"
      },
      "execution_count": null,
      "outputs": []
    },
    {
      "cell_type": "code",
      "source": [
        "arr2"
      ],
      "metadata": {
        "colab": {
          "base_uri": "https://localhost:8080/"
        },
        "id": "M3XmdKe0_mia",
        "outputId": "168988e3-978a-4970-b1cb-cc85469912db"
      },
      "execution_count": null,
      "outputs": [
        {
          "output_type": "execute_result",
          "data": {
            "text/plain": [
              "array([0, 1, 2, 3, 4, 5, 6, 7, 8, 9])"
            ]
          },
          "metadata": {},
          "execution_count": 13
        }
      ]
    },
    {
      "cell_type": "code",
      "source": [
        "np.savez('ziparray.npz',x=arr1,y=arr2)"
      ],
      "metadata": {
        "id": "M7QP7wGb_q4Z"
      },
      "execution_count": null,
      "outputs": []
    },
    {
      "cell_type": "code",
      "source": [
        "archive_array=np.load('ziparray.npz')"
      ],
      "metadata": {
        "id": "_DKbvL9x_3MK"
      },
      "execution_count": null,
      "outputs": []
    },
    {
      "cell_type": "code",
      "source": [
        "archive_array['x']"
      ],
      "metadata": {
        "colab": {
          "base_uri": "https://localhost:8080/"
        },
        "id": "ca3mAGeq_9gj",
        "outputId": "366de770-13af-49ed-d758-24b40b41ebd1"
      },
      "execution_count": null,
      "outputs": [
        {
          "output_type": "execute_result",
          "data": {
            "text/plain": [
              "array([0, 1, 2, 3, 4])"
            ]
          },
          "metadata": {},
          "execution_count": 16
        }
      ]
    },
    {
      "cell_type": "code",
      "source": [
        "archive_array['y']"
      ],
      "metadata": {
        "colab": {
          "base_uri": "https://localhost:8080/"
        },
        "id": "G9cHyQ2EAAc4",
        "outputId": "7a581141-0aa5-4c12-c0a5-6c2dc2ff7bab"
      },
      "execution_count": null,
      "outputs": [
        {
          "output_type": "execute_result",
          "data": {
            "text/plain": [
              "array([0, 1, 2, 3, 4, 5, 6, 7, 8, 9])"
            ]
          },
          "metadata": {},
          "execution_count": 17
        }
      ]
    },
    {
      "cell_type": "code",
      "source": [
        "arr=np.array([[1,2,3],[4,5,6]])\n",
        "arr"
      ],
      "metadata": {
        "colab": {
          "base_uri": "https://localhost:8080/"
        },
        "id": "zymyMqBqATg6",
        "outputId": "f5f7c582-daf2-4dd8-b4b2-d4c2b202d331"
      },
      "execution_count": null,
      "outputs": [
        {
          "output_type": "execute_result",
          "data": {
            "text/plain": [
              "array([[1, 2, 3],\n",
              "       [4, 5, 6]])"
            ]
          },
          "metadata": {},
          "execution_count": 18
        }
      ]
    },
    {
      "cell_type": "code",
      "source": [
        "np.savetxt('mytextarray.txt',arr,delimiter=',')"
      ],
      "metadata": {
        "id": "WZbzdYn1AD-X"
      },
      "execution_count": null,
      "outputs": []
    },
    {
      "cell_type": "code",
      "source": [
        "arr=np.loadtxt('mytextarray.txt',delimiter=',')\n",
        "arr"
      ],
      "metadata": {
        "colab": {
          "base_uri": "https://localhost:8080/"
        },
        "id": "zI-XtFwuAbpA",
        "outputId": "7dee719a-d488-4db4-94e0-ddeb59711fe8"
      },
      "execution_count": null,
      "outputs": [
        {
          "output_type": "execute_result",
          "data": {
            "text/plain": [
              "array([[1., 2., 3.],\n",
              "       [4., 5., 6.]])"
            ]
          },
          "metadata": {},
          "execution_count": 21
        }
      ]
    }
  ]
}